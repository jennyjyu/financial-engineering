{
 "cells": [
  {
   "cell_type": "markdown",
   "metadata": {},
   "source": [
    "# Exercise 1\n",
    "\n",
    "(yield curve) Use the results from Exercise 3 last week\n",
    "\n",
    "    a. Plot the yield curve. Does something look odd? If so, what?\n",
    "    b. Calculate the Nelson-Siegel coefficients and fitted interest rates\n",
    "    c. Plot the the Nelson-Siegel fitted yield curve in the same plot as before and\n",
    "    compare\n",
    "    \n",
    "**Note:** You may have to remove some of the bonds from your data before computing the Nelson-Siegel coefficients.\n"
   ]
  },
  {
   "cell_type": "code",
   "execution_count": 10,
   "metadata": {},
   "outputs": [
    {
     "name": "stdout",
     "output_type": "stream",
     "text": [
      "Data collected manually from the website 'http://www.nasdaqomxnordic.com/bonds/denmark' on 2021-09-15\n",
      "\n",
      "\n",
      "Part a\n",
      "Cash flow for the bonds:\n",
      "\n",
      "            1,5St.l.23 GB  3St.l. 21 GB  4,5 St.l 39 GB  7 St.l 24 GB  \\\n",
      "2021-09-15    -105.569315    -103.10863     -181.707945   -130.130137   \n",
      "2021-11-15       1.500000     103.00000        4.500000      7.000000   \n",
      "2022-11-15       1.500000       0.00000        4.500000      7.000000   \n",
      "2023-11-15     101.500000       0.00000        4.500000      7.000000   \n",
      "2024-11-15       0.000000       0.00000        4.500000    107.000000   \n",
      "2025-11-15       0.000000       0.00000        4.500000      0.000000   \n",
      "2026-11-15       0.000000       0.00000        4.500000      0.000000   \n",
      "2027-11-15       0.000000       0.00000        4.500000      0.000000   \n",
      "2028-11-15       0.000000       0.00000        4.500000      0.000000   \n",
      "2029-11-15       0.000000       0.00000        4.500000      0.000000   \n",
      "2030-11-15       0.000000       0.00000        4.500000      0.000000   \n",
      "2031-11-15       0.000000       0.00000        4.500000      0.000000   \n",
      "2032-11-15       0.000000       0.00000        4.500000      0.000000   \n",
      "2033-11-15       0.000000       0.00000        4.500000      0.000000   \n",
      "2034-11-15       0.000000       0.00000        4.500000      0.000000   \n",
      "2035-11-15       0.000000       0.00000        4.500000      0.000000   \n",
      "2036-11-15       0.000000       0.00000        4.500000      0.000000   \n",
      "2037-11-15       0.000000       0.00000        4.500000      0.000000   \n",
      "2038-11-15       0.000000       0.00000        4.500000      0.000000   \n",
      "2039-11-15       0.000000       0.00000      104.500000      0.000000   \n",
      "2040-11-15       0.000000       0.00000        0.000000      0.000000   \n",
      "2041-11-15       0.000000       0.00000        0.000000      0.000000   \n",
      "2042-11-15       0.000000       0.00000        0.000000      0.000000   \n",
      "2043-11-15       0.000000       0.00000        0.000000      0.000000   \n",
      "2044-11-15       0.000000       0.00000        0.000000      0.000000   \n",
      "2045-11-15       0.000000       0.00000        0.000000      0.000000   \n",
      "2046-11-15       0.000000       0.00000        0.000000      0.000000   \n",
      "2047-11-15       0.000000       0.00000        0.000000      0.000000   \n",
      "2048-11-15       0.000000       0.00000        0.000000      0.000000   \n",
      "2049-11-15       0.000000       0.00000        0.000000      0.000000   \n",
      "2050-11-15       0.000000       0.00000        0.000000      0.000000   \n",
      "2051-11-15       0.000000       0.00000        0.000000      0.000000   \n",
      "2052-11-15       0.000000       0.00000        0.000000      0.000000   \n",
      "\n",
      "            DANSKE STAT 2022  DANSKE STAT 2029  Danske Stat 2024  \\\n",
      "2021-09-15       -101.328219       -106.406438           -101.88   \n",
      "2021-11-15          0.250000          0.500000              0.00   \n",
      "2022-11-15        100.250000          0.500000              0.00   \n",
      "2023-11-15          0.000000          0.500000              0.00   \n",
      "2024-11-15          0.000000          0.500000            100.00   \n",
      "2025-11-15          0.000000          0.500000              0.00   \n",
      "2026-11-15          0.000000          0.500000              0.00   \n",
      "2027-11-15          0.000000          0.500000              0.00   \n",
      "2028-11-15          0.000000          0.500000              0.00   \n",
      "2029-11-15          0.000000        100.500000              0.00   \n",
      "2030-11-15          0.000000          0.000000              0.00   \n",
      "2031-11-15          0.000000          0.000000              0.00   \n",
      "2032-11-15          0.000000          0.000000              0.00   \n",
      "2033-11-15          0.000000          0.000000              0.00   \n",
      "2034-11-15          0.000000          0.000000              0.00   \n",
      "2035-11-15          0.000000          0.000000              0.00   \n",
      "2036-11-15          0.000000          0.000000              0.00   \n",
      "2037-11-15          0.000000          0.000000              0.00   \n",
      "2038-11-15          0.000000          0.000000              0.00   \n",
      "2039-11-15          0.000000          0.000000              0.00   \n",
      "2040-11-15          0.000000          0.000000              0.00   \n",
      "2041-11-15          0.000000          0.000000              0.00   \n",
      "2042-11-15          0.000000          0.000000              0.00   \n",
      "2043-11-15          0.000000          0.000000              0.00   \n",
      "2044-11-15          0.000000          0.000000              0.00   \n",
      "2045-11-15          0.000000          0.000000              0.00   \n",
      "2046-11-15          0.000000          0.000000              0.00   \n",
      "2047-11-15          0.000000          0.000000              0.00   \n",
      "2048-11-15          0.000000          0.000000              0.00   \n",
      "2049-11-15          0.000000          0.000000              0.00   \n",
      "2050-11-15          0.000000          0.000000              0.00   \n",
      "2051-11-15          0.000000          0.000000              0.00   \n",
      "2052-11-15          0.000000          0.000000              0.00   \n",
      "\n",
      "            Danske Stat 2025  Danske Stat 2027  Danske Stat 2031  \\\n",
      "2021-09-15       -111.017534       -105.926438           -100.57   \n",
      "2021-11-15          1.750000          0.500000              0.00   \n",
      "2022-11-15          1.750000          0.500000              0.00   \n",
      "2023-11-15          1.750000          0.500000              0.00   \n",
      "2024-11-15          1.750000          0.500000              0.00   \n",
      "2025-11-15        101.750000          0.500000              0.00   \n",
      "2026-11-15          0.000000          0.500000              0.00   \n",
      "2027-11-15          0.000000        100.500000              0.00   \n",
      "2028-11-15          0.000000          0.000000              0.00   \n",
      "2029-11-15          0.000000          0.000000              0.00   \n",
      "2030-11-15          0.000000          0.000000              0.00   \n",
      "2031-11-15          0.000000          0.000000            100.00   \n",
      "2032-11-15          0.000000          0.000000              0.00   \n",
      "2033-11-15          0.000000          0.000000              0.00   \n",
      "2034-11-15          0.000000          0.000000              0.00   \n",
      "2035-11-15          0.000000          0.000000              0.00   \n",
      "2036-11-15          0.000000          0.000000              0.00   \n",
      "2037-11-15          0.000000          0.000000              0.00   \n",
      "2038-11-15          0.000000          0.000000              0.00   \n",
      "2039-11-15          0.000000          0.000000              0.00   \n",
      "2040-11-15          0.000000          0.000000              0.00   \n",
      "2041-11-15          0.000000          0.000000              0.00   \n",
      "2042-11-15          0.000000          0.000000              0.00   \n",
      "2043-11-15          0.000000          0.000000              0.00   \n",
      "2044-11-15          0.000000          0.000000              0.00   \n",
      "2045-11-15          0.000000          0.000000              0.00   \n",
      "2046-11-15          0.000000          0.000000              0.00   \n",
      "2047-11-15          0.000000          0.000000              0.00   \n",
      "2048-11-15          0.000000          0.000000              0.00   \n",
      "2049-11-15          0.000000          0.000000              0.00   \n",
      "2050-11-15          0.000000          0.000000              0.00   \n",
      "2051-11-15          0.000000          0.000000              0.00   \n",
      "2052-11-15          0.000000          0.000000              0.00   \n",
      "\n",
      "            Danske Stat 2052  \n",
      "2021-09-15        -96.438219  \n",
      "2021-11-15          0.250000  \n",
      "2022-11-15          0.250000  \n",
      "2023-11-15          0.250000  \n",
      "2024-11-15          0.250000  \n",
      "2025-11-15          0.250000  \n",
      "2026-11-15          0.250000  \n",
      "2027-11-15          0.250000  \n",
      "2028-11-15          0.250000  \n",
      "2029-11-15          0.250000  \n",
      "2030-11-15          0.250000  \n",
      "2031-11-15          0.250000  \n",
      "2032-11-15          0.250000  \n",
      "2033-11-15          0.250000  \n",
      "2034-11-15          0.250000  \n",
      "2035-11-15          0.250000  \n",
      "2036-11-15          0.250000  \n",
      "2037-11-15          0.250000  \n",
      "2038-11-15          0.250000  \n",
      "2039-11-15          0.250000  \n",
      "2040-11-15          0.250000  \n",
      "2041-11-15          0.250000  \n",
      "2042-11-15          0.250000  \n",
      "2043-11-15          0.250000  \n",
      "2044-11-15          0.250000  \n",
      "2045-11-15          0.250000  \n",
      "2046-11-15          0.250000  \n",
      "2047-11-15          0.250000  \n",
      "2048-11-15          0.250000  \n",
      "2049-11-15          0.250000  \n",
      "2050-11-15          0.250000  \n",
      "2051-11-15          0.250000  \n",
      "2052-11-15        100.250000  \n",
      "\n",
      "Part b\n",
      "Yield to maturity\n",
      "                          T       YtM\n",
      "1,5St.l.23 GB    2023-11-15 -0.004781\n",
      "3St.l. 21 GB     2021-11-15 -0.006288\n",
      "4,5 St.l 39 GB   2039-11-15  0.001476\n",
      "7 St.l 24 GB     2024-11-15 -0.005788\n",
      "DANSKE STAT 2022 2022-11-15 -0.007022\n",
      "DANSKE STAT 2029 2029-11-15 -0.002257\n",
      "Danske Stat 2024 2024-11-15 -0.005859\n",
      "Danske Stat 2025 2025-11-15 -0.005133\n",
      "Danske Stat 2027 2027-11-15 -0.003811\n",
      "Danske Stat 2031 2031-11-15 -0.000559\n",
      "Danske Stat 2052 2052-11-15  0.003782\n",
      "\n",
      "Part c\n",
      "Visualize yields\n"
     ]
    },
    {
     "data": {
      "image/png": "[encoded data removed]",
      "text/plain": [
       "<Figure size 432x288 with 1 Axes>"
      ]
     },
     "metadata": {
      "needs_background": "light"
     },
     "output_type": "display_data"
    }
   ],
   "source": [
    "#### FROM EXERCISE SOLUTION ####\n",
    "\n",
    "import matplotlib.pyplot as plt, pandas as pd, datetime, numpy as np, scipy.optimize as optimize\n",
    "\n",
    "start_date_str = '2021-09-15'\n",
    "\n",
    "print(\"Data collected manually from the website 'http://www.nasdaqomxnordic.com/bonds/denmark' on \" +\n",
    "\t\tstart_date_str + '\\n')\n",
    "\n",
    "start_date = datetime.datetime.fromisoformat(start_date_str)\n",
    "last_coupon_date = datetime.datetime.fromisoformat('2020-11-15')\n",
    "\n",
    "dict_bonds = {'Bond':['1,5St.l.23 GB', '3St.l. 21 GB', '4,5 St.l 39 GB', '7 St.l 24 GB',\n",
    "\t\t\t\t\t\t'DANSKE STAT 2022', 'DANSKE STAT 2029', \n",
    "\t\t\t\t\t\t'Danske Stat 2024', 'Danske Stat 2025', 'Danske Stat 2027',\n",
    "\t\t\t\t\t\t'Danske Stat 2031', 'Danske Stat 2052'],\n",
    "         \t 'Price':[104.32,100.61,177.96,124.3,101.12,105.99,\n",
    "         \t \t\t\t101.88, 109.56, 105.51, 100.57, 96.23],\n",
    "         \t 'Coupon':[1.50,3.00,4.50,7.00,0.25,0.50,0.00,1.75,0.50,0.00,0.25],\n",
    "         \t 'MatYear':[2023,2021,2039,2024,2022,2029,2024,2025,2027,2031,2052]}\n",
    "\n",
    "# Part 3a\n",
    "print('\\nPart a')\n",
    "\n",
    "bonds = pd.DataFrame(dict_bonds)\n",
    "bonds.set_index('Bond', inplace=True)\n",
    "\n",
    "bonds['MatDate'] = bonds['MatYear'].apply(lambda x: datetime.datetime(x,11,15))\n",
    "bonds['DirtyPrice'] = bonds['Price'] + bonds['Coupon']*(start_date-last_coupon_date).days/365\n",
    "\n",
    "#bonds = bonds.drop(\"Danske Stat 2024\", axis=0)\n",
    "#bonds = bonds.drop(\"Danske Stat 2031\", axis=0)\n",
    "#bonds = bonds.dropna(axis=0, how=\"any\")\n",
    "\n",
    "\n",
    "# Create list of times for the cash flow\n",
    "times = list(range(start_date.year,max(dict_bonds['MatYear'])+1))\n",
    "times = [datetime.datetime(x,11,15) for x in times]\n",
    "times.insert(0,start_date)\n",
    "\n",
    "# Create the dirty cash flow\n",
    "CFdirty = pd.DataFrame(0, index=dict_bonds['Bond'], columns=times)\n",
    "# Insert the dirty price\n",
    "CFdirty[times[0]] = -bonds['DirtyPrice']\n",
    "# Insert coupons and PAR\n",
    "for i in range(1,len(times)):\n",
    "\tCFdirty[times[i]] = bonds['Coupon']*(times[i].year<=bonds['MatYear']) + 100*(times[i].year==bonds['MatYear'])\n",
    "\n",
    "print('Cash flow for the bonds:\\n')\n",
    "print(CFdirty.transpose())\n",
    "\n",
    "cashflow_df = CFdirty.transpose()\n",
    "\n",
    "cashflow_df.to_excel(\"cashflow_dirty.xlsx\")\n",
    "\n",
    "# Part 3b\n",
    "print('\\nPart b')\n",
    "\n",
    "# Get time since start\n",
    "time_since_start = pd.DataFrame(np.NaN, index=times, columns=['t'])\n",
    "for t in times:\n",
    "\ttime_since_start['t'][t] = (t-start_date).days/365\n",
    "\n",
    "# Calculate the yield to maturity\n",
    "YtM = pd.DataFrame(np.NaN, index=dict_bonds['Bond'], columns=['T', 'YtM'])\n",
    "YtM['T'] = bonds['MatDate']\n",
    "\n",
    "def calculate_absdiff(r):\n",
    "\tvalue = 0\n",
    "\tfor t in times[1:]:\n",
    "\t\tvalue += CFdirty[t][bond]*(1+r)**-time_since_start['t'][t]\n",
    "\treturn abs(value+CFdirty[times[0]][bond])\n",
    "\n",
    "for bond in dict_bonds['Bond']:\n",
    "\tYtM.loc[bond, 'YtM'] = optimize.newton(calculate_absdiff, -0.01, tol=1e-10, maxiter=100)\n",
    "\n",
    "print('Yield to maturity')\n",
    "print(YtM)\n",
    "\n",
    "\n",
    "# Part 3c\n",
    "print('\\nPart c')\n",
    "print('Visualize yields')\n",
    "# To avoid future warning deregister mpl converters\n",
    "from pandas.plotting import deregister_matplotlib_converters\n",
    "deregister_matplotlib_converters()\n",
    "\n",
    "plt.scatter(YtM['T'], YtM['YtM'])\n",
    "plt.suptitle('Yields from Danish government bonds')\n",
    "plt.title('Data extracted on ' + start_date_str, fontsize=10)\n",
    "plt.ylabel('yield')\n",
    "plt.show()"
   ]
  },
  {
   "cell_type": "markdown",
   "metadata": {},
   "source": [
    "### 1a) Plot the yield curve. Does something look odd? If so, what?\n",
    "\n"
   ]
  },
  {
   "cell_type": "markdown",
   "metadata": {},
   "source": [
    "The points for \"DGBI 2021 GB\" and \"DGBi\" deviate from the yield curve. \n",
    "\n",
    "More maturities than bonds, the system is always ill-defined. (Se piazza post)"
   ]
  },
  {
   "cell_type": "markdown",
   "metadata": {},
   "source": [
    "### 1b) Calculate the Nelson-Siegel coefficients and fitted interest rates"
   ]
  },
  {
   "cell_type": "code",
   "execution_count": 11,
   "metadata": {},
   "outputs": [
    {
     "name": "stdout",
     "output_type": "stream",
     "text": [
      "Calculated the Nelson-Siegel coefficients and got the following values:\n",
      "NelsonSiegelCurve(beta0=0.004895850049793461, beta1=-0.0077707451307986, beta2=-0.025433143523176212, tau=1.8428043993540426)\n"
     ]
    }
   ],
   "source": [
    "import numpy as np\n",
    "from nelson_siegel_svensson.calibrate import calibrate_ns_ols\n",
    "\n",
    "maturity = np.array([3,1,19,4,2,9,4,5,7,11,32])\n",
    "ytm = np.array([-0.004781182876998311, -0.0062875045307910615, 0.0014761457005752698, -0.00578818015530931, \n",
    "                -0.007022199046629919, -0.0022569620276429044, -0.0058585659248958765, -0.0051330585335954615, \n",
    "                -0.0038109007699065594, -0.0005585816165400206, 0.003781955198807505])\n",
    "curve, status = calibrate_ns_ols(maturity, ytm, tau0=1.0)  # starting value of 1.0 for the optimization of tau\n",
    "assert status.success\n",
    "\n",
    "print(\"Calculated the Nelson-Siegel coefficients and got the following values:\")\n",
    "print(curve)"
   ]
  },
  {
   "cell_type": "code",
   "execution_count": 12,
   "metadata": {},
   "outputs": [
    {
     "name": "stdout",
     "output_type": "stream",
     "text": [
      "[-0.00650254 -0.00594759  0.00167637 -0.00575355 -0.00677229 -0.00165892\n",
      " -0.00575355 -0.00484346 -0.00307972 -0.00058748  0.00298372]\n"
     ]
    }
   ],
   "source": [
    "# Fitted interest rates\n",
    "fitted_rates = curve(maturity)\n",
    "print(fitted_rates)"
   ]
  },
  {
   "cell_type": "markdown",
   "metadata": {},
   "source": [
    "### C) Nelson-Siegel plot"
   ]
  },
  {
   "cell_type": "code",
   "execution_count": 13,
   "metadata": {},
   "outputs": [
    {
     "data": {
      "image/png": "[encoded data removed]",
      "text/plain": [
       "<Figure size 432x288 with 1 Axes>"
      ]
     },
     "metadata": {
      "needs_background": "light"
     },
     "output_type": "display_data"
    }
   ],
   "source": [
    "import matplotlib.pyplot as plt\n",
    "y = curve\n",
    "t = np.linspace(0, 32, 100)\n",
    "plt.plot(t, y(t))\n",
    "plt.scatter(maturity, ytm, color=\"black\")\n",
    "\n",
    "plt.title('Nelson-Siegel curve')\n",
    "plt.xlabel('Maturity (years)')\n",
    "plt.ylabel('YtM')\n",
    "plt.grid(color='grey', linestyle='-', linewidth=0.5)"
   ]
  },
  {
   "cell_type": "markdown",
   "metadata": {},
   "source": [
    "# Exercise 2 \n",
    "\n",
    "(duration, convexity) Use the results from Exercise 3 last week.\n",
    "\n",
    "    a. Compute the Macaulay duration and the modified duration for all bonds\n",
    "    b. Compute the convexity for all bonds\n",
    "    c. Compute Fisher-Weil durations and convexities using the obtained term\n",
    "    structure model from Question 1"
   ]
  },
  {
   "cell_type": "markdown",
   "metadata": {},
   "source": [
    "### 2a) Compute the Macaulay duration and the modified duration for all bonds"
   ]
  },
  {
   "cell_type": "code",
   "execution_count": 14,
   "metadata": {},
   "outputs": [],
   "source": [
    "#Denne metoden fungerer for en enkelt. Må vel bare lage liste for å kjøre gjennom alle bonds. \n",
    "def macaulay_duration(c, y, m, n):\n",
    "    \"\"\"Parameters:\n",
    "        c = coupon rate per period\n",
    "        y = yield per period\n",
    "        m = periods per year\n",
    "        n = periods remaining\n",
    "        \n",
    "        Example: Consider a 7% bond with 3 years to maturity. \n",
    "        Assume bond is selling at 8% yield. \n",
    "        \n",
    "        Then we would c=.035, y=.04, m=2, n=6\"\"\"\n",
    "    macaulay_duration = ((1+y) / (m*y)) - ( (1 + y + n*(c-y)) / ((m*c* ((1+y)**n - 1)) + m*y) )\n",
    "    return macaulay_duration \n",
    "\n",
    "def modified_duration(c, y, m, n):\n",
    "    modified_duration = macaulay_duration(c, y, m, n) / (1 + y)\n",
    "    return modified_duration\n",
    "    \n",
    "\n",
    "#durations_explicit(c=.035, y=.03, m=2, n=8)"
   ]
  },
  {
   "cell_type": "code",
   "execution_count": 15,
   "metadata": {},
   "outputs": [
    {
     "name": "stdout",
     "output_type": "stream",
     "text": [
      "Macaulay Durations:\n",
      "1,5St.l.23 GB: 2.9558834235239573\n",
      "3St.l. 21 GB: 1.0\n",
      "4,5 St.l 39 GB: 13.15999180339871\n",
      "7 St.l 24 GB: 3.6243160444164015\n",
      "DANSKE STAT 2022: 1.9975062344138337\n",
      "DANSKE STAT 2029: 8.82295923969042\n",
      "DANSKE STAT 2025: 4.8309425395582934\n",
      "Danske Stat 2027: 6.8963844060683925\n",
      "Danske Stat 2052: 30.79338786820682\n",
      "________________________________________________________________________\n",
      "Modified Durations:\n",
      "1,5St.l.23 GB: 2.912200417264983\n",
      "3St.l. 21 GB: 0.970873786407767\n",
      "4,5 St.l 39 GB: 12.593293591769102\n",
      "7 St.l 24 GB: 3.3872112564639263\n",
      "DANSKE STAT 2022: 1.9925249221085624\n",
      "DANSKE STAT 2029: 8.779063920089971\n",
      "DANSKE STAT 2025: 4.747855075732966\n",
      "Danske Stat 2027: 6.8620740358889485\n",
      "Danske Stat 2052: 30.716596377263663\n"
     ]
    }
   ],
   "source": [
    "print(\"Macaulay Durations:\")\n",
    "print(\"1,5St.l.23 GB:\", macaulay_duration(c=0.015, y=0.015, m=1, n=3))\n",
    "print(\"3St.l. 21 GB:\", macaulay_duration(c=0.03, y=0.03, m=1, n=1))\n",
    "print(\"4,5 St.l 39 GB:\", macaulay_duration(c=0.045, y=0.045, m=1, n=19))\n",
    "print(\"7 St.l 24 GB:\", macaulay_duration(c=0.07, y=0.07, m=1, n=4))\n",
    "print(\"DANSKE STAT 2022:\", macaulay_duration(c=0.0025, y=0.0025, m=1, n=2))\n",
    "print(\"DANSKE STAT 2029:\", macaulay_duration(c=0.005, y=0.005, m=1, n=9))\n",
    "#Zero coupon: print(\"Danske Stat 2024:\", macaulay_duration(c=0, y=0, m=1, n=4))\n",
    "print(\"DANSKE STAT 2025:\", macaulay_duration(c=0.0175, y=0.0175, m=1, n=5))\n",
    "print(\"Danske Stat 2027:\", macaulay_duration(c=0.005, y=0.005, m=1, n=7))\n",
    "#Zero coupon: print(\"Danske Stat 2031:\", macaulay_duration(c=0, y=0, m=1, n=5))\n",
    "print(\"Danske Stat 2052:\", macaulay_duration(c=0.0025, y=0.0025, m=1, n=32))\n",
    "\n",
    "print(\"________________________________________________________________________\")\n",
    "print(\"Modified Durations:\")\n",
    "print(\"1,5St.l.23 GB:\", modified_duration(c=0.015, y=0.015, m=1, n=3))\n",
    "print(\"3St.l. 21 GB:\", modified_duration(c=0.03, y=0.03, m=1, n=1))\n",
    "print(\"4,5 St.l 39 GB:\", modified_duration(c=0.045, y=0.045, m=1, n=19))\n",
    "print(\"7 St.l 24 GB:\", modified_duration(c=0.07, y=0.07, m=1, n=4))\n",
    "print(\"DANSKE STAT 2022:\", modified_duration(c=0.0025, y=0.0025, m=1, n=2))\n",
    "print(\"DANSKE STAT 2029:\", modified_duration(c=0.005, y=0.005, m=1, n=9))\n",
    "#Zero coupon: print(\"Danske Stat 2024:\", modified_duration(c=0, y=0, m=1, n=4))\n",
    "print(\"DANSKE STAT 2025:\", modified_duration(c=0.0175, y=0.0175, m=1, n=5))\n",
    "print(\"Danske Stat 2027:\", modified_duration(c=0.005, y=0.005, m=1, n=7))\n",
    "#Zero coupon: print(\"Danske Stat 2031:\", modified_duration(c=0, y=0, m=1, n=5))\n",
    "print(\"Danske Stat 2052:\", modified_duration(c=0.0025, y=0.0025, m=1, n=32))\n"
   ]
  },
  {
   "cell_type": "markdown",
   "metadata": {},
   "source": [
    "### 2b) Compute the convexity for all bonds"
   ]
  },
  {
   "cell_type": "code",
   "execution_count": 16,
   "metadata": {},
   "outputs": [],
   "source": [
    "def convexity(P, y, T, cf):\n",
    "    sum_over_T = 0\n",
    "    cf_discounted = [] #Finne nåverdi av utbetalingene i CF\n",
    "    \n",
    "    for i in range(1,len(cf)+1):\n",
    "        cf_discounted.append(cf[i-1]/(1+y)**i)\n",
    "    \n",
    "    new_bond_price = sum(cf_discounted) #Finne nåverdi av face value\n",
    "    \n",
    "    for t in range(1,T+1): #begynner fra første periode, altså første utbetaling\n",
    "        sum_over_T += (cf_discounted[t-1]/(1+y)**t)*(t**2+t)\n",
    "        \n",
    "    convexity = (1/(new_bond_price*(1+y)**2)) * sum_over_T\n",
    "    \n",
    "    return round(convexity,2)\n",
    "    "
   ]
  },
  {
   "cell_type": "code",
   "execution_count": 17,
   "metadata": {},
   "outputs": [],
   "source": [
    "#Test with example\n",
    "\n",
    "#cf = [0.06*1000 for x in range(3)]\n",
    "#cf.append(1000*1.06)\n",
    "#print(cf)\n",
    "\n",
    "#cf_discount = [57.14, 54.42, 51.83, 872.06]\n",
    "#print(\"CONVEXITY\", round(convexity(1000, 0.05, 4, cf),2))"
   ]
  },
  {
   "cell_type": "code",
   "execution_count": 18,
   "metadata": {},
   "outputs": [],
   "source": [
    "cashflows = []\n",
    "\n",
    "cashflows.append([1.5,1.5, 101.5])\n",
    "cashflows.append([103])\n",
    "cashflows.append([4.5 for x in range(18)])\n",
    "cashflows[2].append(104.5)\n",
    "cashflows.append([7, 7, 7, 107])\n",
    "cashflows.append([0.25, 100.25])\n",
    "cashflows.append([0.5,0.5,0.5,0.5,0.5,0.5,0.5,0.5, 100.5])\n",
    "cashflows.append([0,0,0, 100])\n",
    "cashflows.append([1.75, 1.75, 1.75, 1.75, 101.75])\n",
    "cashflows.append([0.5,0.5,0.5,0.5,0.5,0.5,100.5])\n",
    "cashflows.append([0,0,0,0,0,0,0,0,0,0,100])\n",
    "cashflows.append([0.25 for x in range(31)])\n",
    "cashflows[10].append(100.25)"
   ]
  },
  {
   "cell_type": "code",
   "execution_count": 19,
   "metadata": {},
   "outputs": [
    {
     "name": "stdout",
     "output_type": "stream",
     "text": [
      "########## CONVEXITY ##########\n",
      "\n",
      "1,5St.l.23 GB:\t\t 10.92\n",
      "3St.l. 21 GB:\t\t 1.83\n",
      "4,5 St.l 39 GB:\t\t 97.91\n",
      "7 St.l 24 GB:\t\t 11.75\n",
      "DANSKE STAT 2022:\t 5.93\n",
      "DANSKE STAT 2029:\t 82.98\n",
      "Danske Stat 2024:\t 20.0\n",
      "DANSKE STAT 2025:\t 25.39\n",
      "Danske Stat 2027:\t 52.49\n",
      "Danske Stat 2031:\t 0.0\n",
      "Danske Stat 2052:\t 921.95\n"
     ]
    }
   ],
   "source": [
    "print(\"########## CONVEXITY ##########\\n\")\n",
    "print(\"1,5St.l.23 GB:\\t\\t\", convexity(P=104.32, y=0.015, T=3, cf=cashflows[0]))\n",
    "print(\"3St.l. 21 GB:\\t\\t\", convexity(P=100.61, y=0.03, T=1, cf=cashflows[1]))\n",
    "print(\"4,5 St.l 39 GB:\\t\\t\", convexity(P=177.96, y=0.045,T=19, cf=cashflows[2]))\n",
    "print(\"7 St.l 24 GB:\\t\\t\", convexity(P=124.3, y=0.07, T=4, cf=cashflows[3]))\n",
    "print(\"DANSKE STAT 2022:\\t\", convexity(P=101.12, y=0.0025, T=2, cf=cashflows[4]))\n",
    "print(\"DANSKE STAT 2029:\\t\", convexity(P=105.99, y=0.005, T=9, cf=cashflows[5]))\n",
    "#Zero coupon: \n",
    "print(\"Danske Stat 2024:\\t\", convexity(P=101.88, y=0, T=4, cf=cashflows[6]))\n",
    "print(\"DANSKE STAT 2025:\\t\", convexity(P=109.56, y=0.0175, T=5, cf=cashflows[7]))\n",
    "print(\"Danske Stat 2027:\\t\", convexity(P=105.51, y=0.005, T=7, cf=cashflows[8]))\n",
    "#Zero coupon: \n",
    "print(\"Danske Stat 2031:\\t\", convexity(P=100.57, y=0, T=5, cf=cashflows[9]))\n",
    "print(\"Danske Stat 2052:\\t\", convexity(P=96.23, y=0.0025, T=32, cf=cashflows[10]))\n",
    "\n"
   ]
  },
  {
   "cell_type": "markdown",
   "metadata": {},
   "source": [
    "### 2c) Compute Fisher-Weil durations and convexities using the obtained term structure model from Question 1"
   ]
  },
  {
   "cell_type": "code",
   "execution_count": 70,
   "metadata": {},
   "outputs": [],
   "source": [
    "\n",
    "\n",
    "def fisher_weil_dur(P, T, cf, r):\n",
    "    cf_discounted = [] #Finne nåverdi av utbetalingene i CF\n",
    "    summeledd = 0\n",
    "    \n",
    "    for i in range(1,len(cf)+1):\n",
    "        cf_discounted.append(cf[i-1]/(1+r)**i)\n",
    "        \n",
    "    new_bond_price = sum(cf_discounted) #Finne nåverdi av face value\n",
    "        \n",
    "    for t in range(1, T+1):\n",
    "        summeledd += t*cf[t-1]/(1+r)**(t+1)\n",
    "    \n",
    "    fisher_weil_dur = 1/new_bond_price * summeledd\n",
    "    \n",
    "    return fisher_weil_dur\n",
    "    \n",
    "\n",
    "def convexity_adjustment(P, T, cf, r):\n",
    "    \n",
    "    cf_discounted = [] #Finne nåverdi av utbetalingene i CF\n",
    "    summeledd = 0\n",
    "    \n",
    "    for i in range(1,len(cf)+1):\n",
    "        cf_discounted.append(cf[i-1]/(1+r)**i)\n",
    "        \n",
    "    new_bond_price = sum(cf_discounted) #Finne nåverdi av face value\n",
    "        \n",
    "    for t in range(1,T+1):\n",
    "        summeledd += t*(t+1)*cf_discounted[t-1]/(1+r)**(t+2)\n",
    "        \n",
    "    convex_adj = 1/new_bond_price * summeledd\n",
    "    \n",
    "    return round(convex_adj,2)"
   ]
  },
  {
   "cell_type": "code",
   "execution_count": 71,
   "metadata": {},
   "outputs": [],
   "source": [
    "#fitted_rates\n",
    "\n",
    "\n",
    "#Consider a 2-year bond with face value of $100, a \n",
    "#20% semi-annual coupon, and a yield of 4% semi-annually compounded. The total PV will be:\n",
    "\n"
   ]
  },
  {
   "cell_type": "code",
   "execution_count": 72,
   "metadata": {},
   "outputs": [],
   "source": [
    "cash = [5.5, 5.5, 5.5, 5.5, 105.5]\n",
    "r_ex = [0.042, 0.042, 0.045, 0.047, 0.048]\n",
    "#print(\"BOND A duration\", fisher_weil(P=100, T=5, cf=cash, r=r_ex))"
   ]
  },
  {
   "cell_type": "code",
   "execution_count": 73,
   "metadata": {
    "scrolled": true
   },
   "outputs": [
    {
     "name": "stdout",
     "output_type": "stream",
     "text": [
      "########## FISHER WEIL DURATION ##########\n",
      "\n",
      "1,5St.l.23 GB:\t\t 2.9767478032674854\n",
      "3St.l. 21 GB:\t\t 1.0059831797837693\n",
      "4,5 St.l 39 GB:\t\t 14.769819101060126\n",
      "7 St.l 24 GB:\t\t 3.6969206120743334\n",
      "DANSKE STAT 2022:\t 2.0111493329650063\n",
      "DANSKE STAT 2029:\t 8.843986185283484\n",
      "Danske Stat 2024:\t 4.0231473838634315\n",
      "DANSKE STAT 2025:\t 4.86484506525211\n",
      "Danske Stat 2027:\t 6.921180812587813\n",
      "Danske Stat 2031:\t 0.0\n",
      "Danske Stat 2052:\t 30.69015636920727\n"
     ]
    }
   ],
   "source": [
    "print(\"########## FISHER WEIL DURATION ##########\\n\")\n",
    "\n",
    "\n",
    "print(\"1,5St.l.23 GB:\\t\\t\", fisher_weil_dur(P=104.32, r=fitted_rates[0], T=3, cf=cashflows[0]))\n",
    "print(\"3St.l. 21 GB:\\t\\t\", fisher_weil_dur(P=100.61, r=fitted_rates[1], T=1, cf=cashflows[1]))\n",
    "print(\"4,5 St.l 39 GB:\\t\\t\", fisher_weil_dur(P=177.96, r=fitted_rates[2],T=19, cf=cashflows[2]))\n",
    "print(\"7 St.l 24 GB:\\t\\t\", fisher_weil_dur(P=124.3, r=fitted_rates[3], T=4, cf=cashflows[3]))\n",
    "print(\"DANSKE STAT 2022:\\t\", fisher_weil_dur(P=101.12, r=fitted_rates[4], T=2, cf=cashflows[4]))\n",
    "print(\"DANSKE STAT 2029:\\t\", fisher_weil_dur(P=105.99, r=fitted_rates[5], T=9, cf=cashflows[5]))\n",
    "#Zero coupon: \n",
    "print(\"Danske Stat 2024:\\t\", fisher_weil_dur(P=101.88, r=fitted_rates[6], T=4, cf=cashflows[6]))\n",
    "print(\"DANSKE STAT 2025:\\t\", fisher_weil_dur(P=109.56, r=fitted_rates[7], T=5, cf=cashflows[7]))\n",
    "print(\"Danske Stat 2027:\\t\", fisher_weil_dur(P=105.51, r=fitted_rates[8], T=7, cf=cashflows[8]))\n",
    "#Zero coupon: \n",
    "print(\"Danske Stat 2031:\\t\", fisher_weil_dur(P=100.57, r=fitted_rates[9], T=5, cf=cashflows[9]))\n",
    "print(\"Danske Stat 2052:\\t\", fisher_weil_dur(P=96.23, r=fitted_rates[10], T=32, cf=cashflows[10]))"
   ]
  },
  {
   "cell_type": "markdown",
   "metadata": {},
   "source": [
    "### Discussion\n",
    "Fisher-Weil duration is a refinement of Macaulay duration, which takes into account the term structure of interest rates. FW calculates the present values of the relevant cashflows by using zero-coupon yield for each respective maturity.\n",
    "\n",
    "zero-coupon yield = nelson siegel fitted rates from ex. 1\n",
    "each bond has the same rate for all its periods. "
   ]
  },
  {
   "cell_type": "code",
   "execution_count": 75,
   "metadata": {},
   "outputs": [
    {
     "name": "stdout",
     "output_type": "stream",
     "text": [
      "########## FISHER WEIL CONVEXITY ##########\n",
      "\n",
      "1,5St.l.23 GB:\t\t 12.16\n",
      "3St.l. 21 GB:\t\t 2.04\n",
      "4,5 St.l 39 GB:\t\t 259.2\n",
      "7 St.l 24 GB:\t\t 18.46\n",
      "DANSKE STAT 2022:\t 6.16\n",
      "DANSKE STAT 2029:\t 89.33\n",
      "Danske Stat 2024:\t 20.7\n",
      "DANSKE STAT 2025:\t 29.72\n",
      "Danske Stat 2027:\t 56.47\n",
      "Danske Stat 2031:\t 0.0\n",
      "Danske Stat 2052:\t 906.62\n",
      "\n",
      "\n",
      "\n",
      "\n",
      "########## REGULAR CONVEXITY WITH NELSON-SIEGEL RATES ##########\n",
      "\n",
      "1,5St.l.23 GB:\t\t 12.16\n",
      "3St.l. 21 GB:\t\t 2.04\n",
      "4,5 St.l 39 GB:\t\t 259.2\n",
      "7 St.l 24 GB:\t\t 18.46\n",
      "DANSKE STAT 2022:\t 6.16\n",
      "DANSKE STAT 2029:\t 89.33\n",
      "Danske Stat 2024:\t 20.7\n",
      "DANSKE STAT 2025:\t 29.72\n",
      "Danske Stat 2027:\t 56.47\n",
      "Danske Stat 2031:\t 0.0\n",
      "Danske Stat 2052:\t 906.62\n"
     ]
    }
   ],
   "source": [
    "print(\"########## FISHER WEIL CONVEXITY ##########\\n\")\n",
    "\n",
    "print(\"1,5St.l.23 GB:\\t\\t\", convexity_adjustment(P=104.32, r=fitted_rates[0], T=3, cf=cashflows[0]))\n",
    "print(\"3St.l. 21 GB:\\t\\t\", convexity_adjustment(P=100.61, r=fitted_rates[1], T=1, cf=cashflows[1]))\n",
    "print(\"4,5 St.l 39 GB:\\t\\t\", convexity_adjustment(P=177.96, r=fitted_rates[2],T=19, cf=cashflows[2]))\n",
    "print(\"7 St.l 24 GB:\\t\\t\", convexity_adjustment(P=124.3, r=fitted_rates[3], T=4, cf=cashflows[3]))\n",
    "print(\"DANSKE STAT 2022:\\t\", convexity_adjustment(P=101.12, r=fitted_rates[4], T=2, cf=cashflows[4]))\n",
    "print(\"DANSKE STAT 2029:\\t\", convexity_adjustment(P=105.99, r=fitted_rates[5], T=9, cf=cashflows[5]))\n",
    "#Zero coupon: \n",
    "print(\"Danske Stat 2024:\\t\", convexity_adjustment(P=101.88, r=fitted_rates[6], T=4, cf=cashflows[6]))\n",
    "print(\"DANSKE STAT 2025:\\t\", convexity_adjustment(P=109.56, r=fitted_rates[7], T=5, cf=cashflows[7]))\n",
    "print(\"Danske Stat 2027:\\t\", convexity_adjustment(P=105.51, r=fitted_rates[8], T=7, cf=cashflows[8]))\n",
    "#Zero coupon: \n",
    "print(\"Danske Stat 2031:\\t\", convexity_adjustment(P=100.57, r=fitted_rates[9], T=5, cf=cashflows[9]))\n",
    "print(\"Danske Stat 2052:\\t\", convexity_adjustment(P=96.23, r=fitted_rates[10], T=32, cf=cashflows[10]))\n",
    "\n",
    "print(\"\\n\\n\\n\")\n",
    "print(\"########## REGULAR CONVEXITY WITH NELSON-SIEGEL RATES ##########\\n\")\n",
    "\n",
    "print(\"1,5St.l.23 GB:\\t\\t\", convexity(P=104.32, y=fitted_rates[0], T=3, cf=cashflows[0]))\n",
    "print(\"3St.l. 21 GB:\\t\\t\", convexity(P=100.61, y=fitted_rates[1], T=1, cf=cashflows[1]))\n",
    "print(\"4,5 St.l 39 GB:\\t\\t\", convexity(P=177.96, y=fitted_rates[2],T=19, cf=cashflows[2]))\n",
    "print(\"7 St.l 24 GB:\\t\\t\", convexity(P=124.3, y=fitted_rates[3], T=4, cf=cashflows[3]))\n",
    "print(\"DANSKE STAT 2022:\\t\", convexity(P=101.12, y=fitted_rates[4], T=2, cf=cashflows[4]))\n",
    "print(\"DANSKE STAT 2029:\\t\", convexity(P=105.99, y=fitted_rates[5], T=9, cf=cashflows[5]))\n",
    "#Zero coupon: \n",
    "print(\"Danske Stat 2024:\\t\", convexity(P=101.88, y=fitted_rates[6], T=4, cf=cashflows[6]))\n",
    "print(\"DANSKE STAT 2025:\\t\", convexity(P=109.56, y=fitted_rates[7], T=5, cf=cashflows[7]))\n",
    "print(\"Danske Stat 2027:\\t\", convexity(P=105.51, y=fitted_rates[8], T=7, cf=cashflows[8]))\n",
    "#Zero coupon: \n",
    "print(\"Danske Stat 2031:\\t\", convexity(P=100.57, y=fitted_rates[9], T=5, cf=cashflows[9]))\n",
    "print(\"Danske Stat 2052:\\t\", convexity(P=96.23, y=fitted_rates[10], T=32, cf=cashflows[10]))"
   ]
  },
  {
   "cell_type": "markdown",
   "metadata": {},
   "source": [
    "# Exercise 3\n",
    "\n",
    "In this task you play the role of bond portfolio manager. A client would like to invest in Danish Government bonds. He asks you to invest DKK 1.000.000 in a portfolio of bonds and wants you to assess the risk of holding this portfolio.\n",
    "\n",
    "    a. The portfolio calculations should be done using NASDAQ prices from a September-day on or after \n",
    "        September 15th. As there is little data in this project, I would not recommend you to \n",
    "        spend time on figuring out how to fetch data from the website automatically. \n",
    "        Just write them down in your scripts.\n",
    "    b. Convert prices from clean to dirty or vice versa depending on your data.\n",
    "    c. The term structure of interest rates should be done with a Nelson-Siegel term\n",
    "        structure model fitted to all relevant government bond prices.\n",
    "    d. Derive an expression for the duration of a portfolio of bonds and argue why you must \n",
    "        use the interest rates coming from the fitted term-structure model\n",
    "        instead of rates obtained by calculating each bond's yield to maturity.\n",
    "    e. Find a portfolio of three bonds with positive portfolio weights, such that the\n",
    "        duration of the portfolio is X, where X = 5 + 0. 5 * (the digit sum of your\n",
    "        student numbers).\n",
    "    f. Using these weights, calculate the convexity of the portfolio as well as the\n",
    "        value increase/decrease, if the interest rate curve shifts up by 1% (100bp).\n",
    "\n",
    "**Note: For some bonds, there might be no recent trades and thereby prices for the day where you wish to do the analysis. In that case, you can for instance use the latest price.**"
   ]
  },
  {
   "cell_type": "markdown",
   "metadata": {
    "scrolled": true
   },
   "source": [
    "## 3f) Using these weights, calculate the convexity of the portfolio as well as the value increase/decrease"
   ]
  },
  {
   "cell_type": "code",
   "execution_count": 2,
   "metadata": {},
   "outputs": [],
   "source": [
    "\n",
    "def portfolio_convexity(weights, P_list, y_list, T_list, cf_list):\n",
    "    convex = 0\n",
    "    \n",
    "    for i in range(len(bonds)):\n",
    "        convex += weights[i]*convexity(P_list[i], y_list[i], T_list[i], cf_list[i])\n",
    "        \n",
    "    return convex\n",
    "\n",
    "\n",
    "#if the interest rate curve shifts up by 1% (100bp).\n",
    "def portfolio_convexity_with_shift(weights, P_list, y_list, T_list, cf_list):\n",
    "    convex = 0\n",
    "    \n",
    "    for i in range(len(bonds)):\n",
    "        convex += weights[i]*convexity(P_list[i], y_list[i]+0.01, T_list[i], cf_list[i])\n",
    "        \n",
    "    return convex"
   ]
  },
  {
   "cell_type": "code",
   "execution_count": null,
   "metadata": {},
   "outputs": [],
   "source": []
  }
 ],
 "metadata": {
  "kernelspec": {
   "display_name": "Python 3",
   "language": "python",
   "name": "python3"
  },
  "language_info": {
   "codemirror_mode": {
    "name": "ipython",
    "version": 3
   },
   "file_extension": ".py",
   "mimetype": "text/x-python",
   "name": "python",
   "nbconvert_exporter": "python",
   "pygments_lexer": "ipython3",
   "version": "3.7.3"
  }
 },
 "nbformat": 4,
 "nbformat_minor": 4
}

{
 "cells": [
  {
   "cell_type": "markdown",
   "metadata": {},
   "source": [
    "# Exercise 1\n",
    "\n",
    "(yield curve) Use the results from Exercise 3 last week\n",
    "\n",
    "    a. Plot the yield curve. Does something look odd? If so, what?\n",
    "    b. Calculate the Nelson-Siegel coefficients and fitted interest rates\n",
    "    c. Plot the the Nelson-Siegel fitted yield curve in the same plot as before and\n",
    "    compare\n",
    "    \n",
    "**Note:** You may have to remove some of the bonds from your data before computing the Nelson-Siegel coefficients.\n"
   ]
  },
  {
   "cell_type": "code",
   "execution_count": 1,
   "metadata": {
    "scrolled": true
   },
   "outputs": [
    {
     "name": "stdout",
     "output_type": "stream",
     "text": [
      "Data collected manually from the website 'http://www.nasdaqomxnordic.com/bonds/denmark' on 2021-09-15\n",
      "\n",
      "\n",
      "Part a\n",
      "Cash flow for the bonds:\n",
      "\n",
      "            1,5St.l.23 GB  3St.l. 21 GB  4,5 St.l 39 GB  7 St.l 24 GB  \\\n",
      "2021-09-15    -105.569315    -103.10863     -181.707945   -130.130137   \n",
      "2021-11-15       1.500000     103.00000        4.500000      7.000000   \n",
      "2022-11-15       1.500000       0.00000        4.500000      7.000000   \n",
      "2023-11-15     101.500000       0.00000        4.500000      7.000000   \n",
      "2024-11-15       0.000000       0.00000        4.500000    107.000000   \n",
      "2025-11-15       0.000000       0.00000        4.500000      0.000000   \n",
      "2026-11-15       0.000000       0.00000        4.500000      0.000000   \n",
      "2027-11-15       0.000000       0.00000        4.500000      0.000000   \n",
      "2028-11-15       0.000000       0.00000        4.500000      0.000000   \n",
      "2029-11-15       0.000000       0.00000        4.500000      0.000000   \n",
      "2030-11-15       0.000000       0.00000        4.500000      0.000000   \n",
      "2031-11-15       0.000000       0.00000        4.500000      0.000000   \n",
      "2032-11-15       0.000000       0.00000        4.500000      0.000000   \n",
      "2033-11-15       0.000000       0.00000        4.500000      0.000000   \n",
      "2034-11-15       0.000000       0.00000        4.500000      0.000000   \n",
      "2035-11-15       0.000000       0.00000        4.500000      0.000000   \n",
      "2036-11-15       0.000000       0.00000        4.500000      0.000000   \n",
      "2037-11-15       0.000000       0.00000        4.500000      0.000000   \n",
      "2038-11-15       0.000000       0.00000        4.500000      0.000000   \n",
      "2039-11-15       0.000000       0.00000      104.500000      0.000000   \n",
      "2040-11-15       0.000000       0.00000        0.000000      0.000000   \n",
      "2041-11-15       0.000000       0.00000        0.000000      0.000000   \n",
      "2042-11-15       0.000000       0.00000        0.000000      0.000000   \n",
      "2043-11-15       0.000000       0.00000        0.000000      0.000000   \n",
      "2044-11-15       0.000000       0.00000        0.000000      0.000000   \n",
      "2045-11-15       0.000000       0.00000        0.000000      0.000000   \n",
      "2046-11-15       0.000000       0.00000        0.000000      0.000000   \n",
      "2047-11-15       0.000000       0.00000        0.000000      0.000000   \n",
      "2048-11-15       0.000000       0.00000        0.000000      0.000000   \n",
      "2049-11-15       0.000000       0.00000        0.000000      0.000000   \n",
      "2050-11-15       0.000000       0.00000        0.000000      0.000000   \n",
      "2051-11-15       0.000000       0.00000        0.000000      0.000000   \n",
      "2052-11-15       0.000000       0.00000        0.000000      0.000000   \n",
      "\n",
      "            DANSKE STAT 2022  DANSKE STAT 2029  DGBI 2023 GB        DGBi  \\\n",
      "2021-09-15       -101.328219       -106.406438   -104.753288 -118.033288   \n",
      "2021-11-15          0.250000          0.500000      0.100000    0.100000   \n",
      "2022-11-15        100.250000          0.500000      0.100000    0.100000   \n",
      "2023-11-15          0.000000          0.500000    100.100000    0.100000   \n",
      "2024-11-15          0.000000          0.500000      0.000000    0.100000   \n",
      "2025-11-15          0.000000          0.500000      0.000000    0.100000   \n",
      "2026-11-15          0.000000          0.500000      0.000000    0.100000   \n",
      "2027-11-15          0.000000          0.500000      0.000000    0.100000   \n",
      "2028-11-15          0.000000          0.500000      0.000000    0.100000   \n",
      "2029-11-15          0.000000        100.500000      0.000000    0.100000   \n",
      "2030-11-15          0.000000          0.000000      0.000000  100.100000   \n",
      "2031-11-15          0.000000          0.000000      0.000000    0.000000   \n",
      "2032-11-15          0.000000          0.000000      0.000000    0.000000   \n",
      "2033-11-15          0.000000          0.000000      0.000000    0.000000   \n",
      "2034-11-15          0.000000          0.000000      0.000000    0.000000   \n",
      "2035-11-15          0.000000          0.000000      0.000000    0.000000   \n",
      "2036-11-15          0.000000          0.000000      0.000000    0.000000   \n",
      "2037-11-15          0.000000          0.000000      0.000000    0.000000   \n",
      "2038-11-15          0.000000          0.000000      0.000000    0.000000   \n",
      "2039-11-15          0.000000          0.000000      0.000000    0.000000   \n",
      "2040-11-15          0.000000          0.000000      0.000000    0.000000   \n",
      "2041-11-15          0.000000          0.000000      0.000000    0.000000   \n",
      "2042-11-15          0.000000          0.000000      0.000000    0.000000   \n",
      "2043-11-15          0.000000          0.000000      0.000000    0.000000   \n",
      "2044-11-15          0.000000          0.000000      0.000000    0.000000   \n",
      "2045-11-15          0.000000          0.000000      0.000000    0.000000   \n",
      "2046-11-15          0.000000          0.000000      0.000000    0.000000   \n",
      "2047-11-15          0.000000          0.000000      0.000000    0.000000   \n",
      "2048-11-15          0.000000          0.000000      0.000000    0.000000   \n",
      "2049-11-15          0.000000          0.000000      0.000000    0.000000   \n",
      "2050-11-15          0.000000          0.000000      0.000000    0.000000   \n",
      "2051-11-15          0.000000          0.000000      0.000000    0.000000   \n",
      "2052-11-15          0.000000          0.000000      0.000000    0.000000   \n",
      "\n",
      "            Danske Stat 2024  Danske Stat 2025  Danske Stat 2027  \\\n",
      "2021-09-15           -101.88       -111.017534       -105.926438   \n",
      "2021-11-15              0.00          1.750000          0.500000   \n",
      "2022-11-15              0.00          1.750000          0.500000   \n",
      "2023-11-15              0.00          1.750000          0.500000   \n",
      "2024-11-15            100.00          1.750000          0.500000   \n",
      "2025-11-15              0.00        101.750000          0.500000   \n",
      "2026-11-15              0.00          0.000000          0.500000   \n",
      "2027-11-15              0.00          0.000000        100.500000   \n",
      "2028-11-15              0.00          0.000000          0.000000   \n",
      "2029-11-15              0.00          0.000000          0.000000   \n",
      "2030-11-15              0.00          0.000000          0.000000   \n",
      "2031-11-15              0.00          0.000000          0.000000   \n",
      "2032-11-15              0.00          0.000000          0.000000   \n",
      "2033-11-15              0.00          0.000000          0.000000   \n",
      "2034-11-15              0.00          0.000000          0.000000   \n",
      "2035-11-15              0.00          0.000000          0.000000   \n",
      "2036-11-15              0.00          0.000000          0.000000   \n",
      "2037-11-15              0.00          0.000000          0.000000   \n",
      "2038-11-15              0.00          0.000000          0.000000   \n",
      "2039-11-15              0.00          0.000000          0.000000   \n",
      "2040-11-15              0.00          0.000000          0.000000   \n",
      "2041-11-15              0.00          0.000000          0.000000   \n",
      "2042-11-15              0.00          0.000000          0.000000   \n",
      "2043-11-15              0.00          0.000000          0.000000   \n",
      "2044-11-15              0.00          0.000000          0.000000   \n",
      "2045-11-15              0.00          0.000000          0.000000   \n",
      "2046-11-15              0.00          0.000000          0.000000   \n",
      "2047-11-15              0.00          0.000000          0.000000   \n",
      "2048-11-15              0.00          0.000000          0.000000   \n",
      "2049-11-15              0.00          0.000000          0.000000   \n",
      "2050-11-15              0.00          0.000000          0.000000   \n",
      "2051-11-15              0.00          0.000000          0.000000   \n",
      "2052-11-15              0.00          0.000000          0.000000   \n",
      "\n",
      "            Danske Stat 2031  Danske Stat 2052  \n",
      "2021-09-15           -100.57        -96.438219  \n",
      "2021-11-15              0.00          0.250000  \n",
      "2022-11-15              0.00          0.250000  \n",
      "2023-11-15              0.00          0.250000  \n",
      "2024-11-15              0.00          0.250000  \n",
      "2025-11-15              0.00          0.250000  \n",
      "2026-11-15              0.00          0.250000  \n",
      "2027-11-15              0.00          0.250000  \n",
      "2028-11-15              0.00          0.250000  \n",
      "2029-11-15              0.00          0.250000  \n",
      "2030-11-15              0.00          0.250000  \n",
      "2031-11-15            100.00          0.250000  \n",
      "2032-11-15              0.00          0.250000  \n",
      "2033-11-15              0.00          0.250000  \n",
      "2034-11-15              0.00          0.250000  \n",
      "2035-11-15              0.00          0.250000  \n",
      "2036-11-15              0.00          0.250000  \n",
      "2037-11-15              0.00          0.250000  \n",
      "2038-11-15              0.00          0.250000  \n",
      "2039-11-15              0.00          0.250000  \n",
      "2040-11-15              0.00          0.250000  \n",
      "2041-11-15              0.00          0.250000  \n",
      "2042-11-15              0.00          0.250000  \n",
      "2043-11-15              0.00          0.250000  \n",
      "2044-11-15              0.00          0.250000  \n",
      "2045-11-15              0.00          0.250000  \n",
      "2046-11-15              0.00          0.250000  \n",
      "2047-11-15              0.00          0.250000  \n",
      "2048-11-15              0.00          0.250000  \n",
      "2049-11-15              0.00          0.250000  \n",
      "2050-11-15              0.00          0.250000  \n",
      "2051-11-15              0.00          0.250000  \n",
      "2052-11-15              0.00        100.250000  \n",
      "\n",
      "Part b\n",
      "Yield to maturity\n",
      "                          T       YtM\n",
      "1,5St.l.23 GB    2023-11-15 -0.004781\n",
      "3St.l. 21 GB     2021-11-15 -0.006288\n",
      "4,5 St.l 39 GB   2039-11-15  0.001476\n",
      "7 St.l 24 GB     2024-11-15 -0.005788\n",
      "DANSKE STAT 2022 2022-11-15 -0.007022\n",
      "DANSKE STAT 2029 2029-11-15 -0.002257\n",
      "DGBI 2023 GB     2023-11-15 -0.019873\n",
      "DGBi             2030-11-15 -0.016924\n",
      "Danske Stat 2024 2024-11-15 -0.005859\n",
      "Danske Stat 2025 2025-11-15 -0.005133\n",
      "Danske Stat 2027 2027-11-15 -0.003811\n",
      "Danske Stat 2031 2031-11-15 -0.000559\n",
      "Danske Stat 2052 2052-11-15  0.003782\n",
      "\n",
      "Part c\n",
      "Visualize yields\n"
     ]
    },
    {
     "data": {
      "image/png": "[encoded data removed]",
      "text/plain": [
       "<Figure size 432x288 with 1 Axes>"
      ]
     },
     "metadata": {
      "needs_background": "light"
     },
     "output_type": "display_data"
    }
   ],
   "source": [
    "#### FROM EXERCISE SOLUTION ####\n",
    "\n",
    "import matplotlib.pyplot as plt, pandas as pd, datetime, numpy as np, scipy.optimize as optimize\n",
    "\n",
    "start_date_str = '2021-09-15'\n",
    "\n",
    "print(\"Data collected manually from the website 'http://www.nasdaqomxnordic.com/bonds/denmark' on \" +\n",
    "\t\tstart_date_str + '\\n')\n",
    "\n",
    "start_date = datetime.datetime.fromisoformat(start_date_str)\n",
    "last_coupon_date = datetime.datetime.fromisoformat('2020-11-15')\n",
    "\n",
    "dict_bonds = {'Bond':['1,5St.l.23 GB', '3St.l. 21 GB', '4,5 St.l 39 GB', '7 St.l 24 GB',\n",
    "\t\t\t\t\t\t'DANSKE STAT 2022', 'DANSKE STAT 2029', 'DGBI 2023 GB', 'DGBi',\n",
    "\t\t\t\t\t\t'Danske Stat 2024', 'Danske Stat 2025', 'Danske Stat 2027',\n",
    "\t\t\t\t\t\t'Danske Stat 2031', 'Danske Stat 2052'],\n",
    "         \t 'Price':[104.32,100.61,177.96,124.3,101.12,105.99,104.67,117.95,\n",
    "         \t \t\t\t101.88, 109.56, 105.51, 100.57, 96.23],\n",
    "         \t 'Coupon':[1.50,3.00,4.50,7.00,0.25,0.50,0.10,0.10,0.00,1.75,0.50,0.00,0.25],\n",
    "         \t 'MatYear':[2023,2021,2039,2024,2022,2029,2023,2030,2024,2025,2027,2031,2052]}\n",
    "\n",
    "# Part 3a\n",
    "print('\\nPart a')\n",
    "\n",
    "bonds = pd.DataFrame(dict_bonds)\n",
    "bonds.set_index('Bond', inplace=True)\n",
    "\n",
    "bonds['MatDate'] = bonds['MatYear'].apply(lambda x: datetime.datetime(x,11,15))\n",
    "bonds['DirtyPrice'] = bonds['Price'] + bonds['Coupon']*(start_date-last_coupon_date).days/365\n",
    "\n",
    "# Create list of times for the cash flow\n",
    "times = list(range(start_date.year,max(dict_bonds['MatYear'])+1))\n",
    "times = [datetime.datetime(x,11,15) for x in times]\n",
    "times.insert(0,start_date)\n",
    "\n",
    "# Create the dirty cash flow\n",
    "CFdirty = pd.DataFrame(0, index=dict_bonds['Bond'], columns=times)\n",
    "# Insert the dirty price\n",
    "CFdirty[times[0]] = -bonds['DirtyPrice']\n",
    "# Insert coupons and PAR\n",
    "for i in range(1,len(times)):\n",
    "\tCFdirty[times[i]] = bonds['Coupon']*(times[i].year<=bonds['MatYear']) + 100*(times[i].year==bonds['MatYear'])\n",
    "\n",
    "print('Cash flow for the bonds:\\n')\n",
    "print(CFdirty.transpose())\n",
    "\n",
    "# Part 3b\n",
    "print('\\nPart b')\n",
    "\n",
    "# Get time since start\n",
    "time_since_start = pd.DataFrame(np.NaN, index=times, columns=['t'])\n",
    "for t in times:\n",
    "\ttime_since_start['t'][t] = (t-start_date).days/365\n",
    "\n",
    "# Calculate the yield to maturity\n",
    "YtM = pd.DataFrame(np.NaN, index=dict_bonds['Bond'], columns=['T', 'YtM'])\n",
    "YtM['T'] = bonds['MatDate']\n",
    "\n",
    "def calculate_absdiff(r):\n",
    "\tvalue = 0\n",
    "\tfor t in times[1:]:\n",
    "\t\tvalue += CFdirty[t][bond]*(1+r)**-time_since_start['t'][t]\n",
    "\treturn abs(value+CFdirty[times[0]][bond])\n",
    "\n",
    "for bond in dict_bonds['Bond']:\n",
    "\tYtM.loc[bond, 'YtM'] = optimize.newton(calculate_absdiff, -0.01, tol=1e-10, maxiter=100)\n",
    "\n",
    "print('Yield to maturity')\n",
    "print(YtM)\n",
    "\n",
    "# Part 3c\n",
    "print('\\nPart c')\n",
    "print('Visualize yields')\n",
    "# To avoid future warning deregister mpl converters\n",
    "from pandas.plotting import deregister_matplotlib_converters\n",
    "deregister_matplotlib_converters()\n",
    "\n",
    "plt.scatter(YtM['T'], YtM['YtM'])\n",
    "plt.suptitle('Yields from Danish government bonds')\n",
    "plt.title('Data ex¨tracted on ' + start_date_str, fontsize=10)\n",
    "plt.ylabel('yield')\n",
    "plt.show()"
   ]
  },
  {
   "cell_type": "markdown",
   "metadata": {},
   "source": [
    "### Plot the yield curve. Does something look odd? If so, what?\n",
    "\n"
   ]
  },
  {
   "cell_type": "markdown",
   "metadata": {},
   "source": [
    "The points ....."
   ]
  },
  {
   "cell_type": "markdown",
   "metadata": {},
   "source": [
    "### B) Calculate the Nelson-Siegel coefficient"
   ]
  },
  {
   "cell_type": "code",
   "execution_count": 2,
   "metadata": {},
   "outputs": [
    {
     "name": "stdout",
     "output_type": "stream",
     "text": [
      "Calculated the Nelson-Siegel coefficients and got the following values:\n",
      "NelsonSiegelCurve(beta0=0.004895850049793461, beta1=-0.0077707451307986, beta2=-0.025433143523176212, tau=1.8428043993540426)\n"
     ]
    }
   ],
   "source": [
    "import numpy as np\n",
    "from nelson_siegel_svensson.calibrate import calibrate_ns_ols\n",
    "\n",
    "maturity = np.array([3,1,19,4,2,9,4,5,7,11,32])\n",
    "ytm = np.array([-0.004781182876998311, -0.0062875045307910615, 0.0014761457005752698, -0.00578818015530931, \n",
    "                -0.007022199046629919, -0.0022569620276429044, -0.0058585659248958765, -0.0051330585335954615, \n",
    "                -0.0038109007699065594, -0.0005585816165400206, 0.003781955198807505])\n",
    "curve, status = calibrate_ns_ols(maturity, ytm, tau0=1.0)  # starting value of 1.0 for the optimization of tau\n",
    "assert status.success\n",
    "\n",
    "print(\"Calculated the Nelson-Siegel coefficients and got the following values:\")\n",
    "print(curve)"
   ]
  },
  {
   "cell_type": "code",
   "execution_count": 3,
   "metadata": {},
   "outputs": [
    {
     "name": "stdout",
     "output_type": "stream",
     "text": [
      "[-0.00650254 -0.00594759  0.00167637 -0.00575355 -0.00677229 -0.00165892\n",
      " -0.00575355 -0.00484346 -0.00307972 -0.00058748  0.00298372]\n"
     ]
    }
   ],
   "source": [
    "# Fitted interest rates\n",
    "fitted_rates = curve(maturity)\n",
    "print(fitted_rates)"
   ]
  },
  {
   "cell_type": "markdown",
   "metadata": {},
   "source": [
    "### C) Nelson-Siegel plot"
   ]
  },
  {
   "cell_type": "code",
   "execution_count": 4,
   "metadata": {},
   "outputs": [
    {
     "data": {
      "image/png": "[encoded data removed]",
      "text/plain": [
       "<Figure size 432x288 with 1 Axes>"
      ]
     },
     "metadata": {
      "needs_background": "light"
     },
     "output_type": "display_data"
    }
   ],
   "source": [
    "import matplotlib.pyplot as plt\n",
    "y = curve\n",
    "t = np.linspace(0, 32, 100)\n",
    "plt.plot(t, y(t))\n",
    "plt.scatter(maturity, ytm, color=\"black\")\n",
    "\n",
    "plt.title('Nelson-Siegel curve')\n",
    "plt.xlabel('Maturity (years)')\n",
    "plt.ylabel('YtM')\n",
    "plt.grid(color='grey', linestyle='-', linewidth=0.5)"
   ]
  },
  {
   "cell_type": "markdown",
   "metadata": {},
   "source": [
    "# Exercise 2 \n",
    "\n",
    "(duration, convexity) Use the results from Exercise 3 last week.\n",
    "\n",
    "    a. Compute the Macaulay duration and the modified duration for all bonds\n",
    "    b. Compute the convexity for all bonds\n",
    "    c. Compute Fisher-Weil durations and convexities using the obtained term\n",
    "    structure model from Question 1"
   ]
  },
  {
   "cell_type": "code",
   "execution_count": null,
   "metadata": {},
   "outputs": [],
   "source": []
  },
  {
   "cell_type": "markdown",
   "metadata": {},
   "source": [
    "# Exercise 3\n",
    "\n",
    "In this task you play the role of bond portfolio manager. A client would like to invest in Danish Government bonds. He asks you to invest DKK 1.000.000 in a portfolio of bonds and wants you to assess the risk of holding this portfolio.\n",
    "\n",
    "    a. The portfolio calculations should be done using NASDAQ prices from a September-day on or after \n",
    "        September 15th. As there is little data in this project, I would not recommend you to \n",
    "        spend time on figuring out how to fetch data from the website automatically. \n",
    "        Just write them down in your scripts.\n",
    "    b. Convert prices from clean to dirty or vice versa depending on your data.\n",
    "    c. The term structure of interest rates should be done with a Nelson-Siegel term\n",
    "        structure model fitted to all relevant government bond prices.\n",
    "    d. Derive an expression for the duration of a portfolio of bonds and argue why you must \n",
    "        use the interest rates coming from the fitted term-structure model\n",
    "        instead of rates obtained by calculating each bond's yield to maturity.\n",
    "    e. Find a portfolio of three bonds with positive portfolio weights, such that the\n",
    "        duration of the portfolio is X, where X = 5 + 0. 5 * (the digit sum of your\n",
    "        student numbers).\n",
    "    f. Using these weights, calculate the convexity of the portfolio as well as the\n",
    "        value increase/decrease, if the interest rate curve shifts up by 1% (100bp).\n",
    "\n",
    "**Note: For some bonds, there might be no recent trades and thereby prices for the day where you wish to do the analysis. In that case, you can for instance use the latest price.**"
   ]
  },
  {
   "cell_type": "markdown",
   "metadata": {},
   "source": [
    "### Part A"
   ]
  },
  {
   "cell_type": "code",
   "execution_count": 15,
   "metadata": {},
   "outputs": [],
   "source": [
    "# Closing prizes retrived from Nasdaq\n",
    "\n",
    "dict_closing_prizes = {'1,5St.l.23 GB' : 104.555, \n",
    "                       '3St.l. 21 GB' : 100.470, \n",
    "                       '4,5 St.l 39 GB' : 177.020, \n",
    "                       '7 St.l 24 GB':  124.260,\n",
    "                       'DANSKE STAT 2022': 100.955, \n",
    "                       'DANSKE STAT 2029': 105.900, \n",
    "                       'Danske Stat 2024': 101.715,\n",
    "                       'Danske Stat 2025': 109.170,\n",
    "                       'Danske Stat 2027': 105.560,\n",
    "                       'Danske Stat 2031': 100.140,\n",
    "                       'Danske Stat 2052': 94.850,\n",
    "                      }                     "
   ]
  },
  {
   "cell_type": "code",
   "execution_count": 30,
   "metadata": {},
   "outputs": [],
   "source": [
    "government_bonds = {'Bond':['1,5St.l.23 GB', '3St.l. 21 GB', '4,5 St.l 39 GB', '7 St.l 24 GB',\n",
    "                           'DANSKE STAT 2022', 'DANSKE STAT 2029',\n",
    "                           'Danske Stat 2024', 'Danske Stat 2025', 'Danske Stat 2027',\n",
    "                           'Danske Stat 2031', 'Danske Stat 2052'],\n",
    "                   'Price':[104.555, 100.470, 177.020, 124.260, 100.955, 105.900, 101.715, 109.170, 105.560,\n",
    "                            100.140, 94.850],\n",
    "                   'Coupon':[1.50,3.00,4.50,7.00,0.25,0.50,0.00,1.75,0.50,0.00,0.25],\n",
    "                   'MatYear':[2023,2021,2039,2024,2022,2029,2024,2025,2027,2031,2052]}\n"
   ]
  },
  {
   "cell_type": "markdown",
   "metadata": {},
   "source": [
    "### Part B"
   ]
  },
  {
   "cell_type": "code",
   "execution_count": 31,
   "metadata": {},
   "outputs": [],
   "source": [
    "portfolio = pd.DataFrame(government_bonds)\n",
    "portfolio.set_index('Bond', inplace=True)"
   ]
  },
  {
   "cell_type": "code",
   "execution_count": 58,
   "metadata": {},
   "outputs": [
    {
     "name": "stdout",
     "output_type": "stream",
     "text": [
      "Cash flow for the bonds:\n",
      "\n",
      "            1,5St.l.23 GB  3St.l. 21 GB  4,5 St.l 39 GB  7 St.l 24 GB  \\\n",
      "2021-09-15    -105.804315    -102.96863     -180.767945   -130.090137   \n",
      "2021-11-15       1.500000     103.00000        4.500000      7.000000   \n",
      "2022-11-15       1.500000       0.00000        4.500000      7.000000   \n",
      "2023-11-15     101.500000       0.00000        4.500000      7.000000   \n",
      "2024-11-15       0.000000       0.00000        4.500000    107.000000   \n",
      "2025-11-15       0.000000       0.00000        4.500000      0.000000   \n",
      "2026-11-15       0.000000       0.00000        4.500000      0.000000   \n",
      "2027-11-15       0.000000       0.00000        4.500000      0.000000   \n",
      "2028-11-15       0.000000       0.00000        4.500000      0.000000   \n",
      "2029-11-15       0.000000       0.00000        4.500000      0.000000   \n",
      "2030-11-15       0.000000       0.00000        4.500000      0.000000   \n",
      "2031-11-15       0.000000       0.00000        4.500000      0.000000   \n",
      "2032-11-15       0.000000       0.00000        4.500000      0.000000   \n",
      "2033-11-15       0.000000       0.00000        4.500000      0.000000   \n",
      "2034-11-15       0.000000       0.00000        4.500000      0.000000   \n",
      "2035-11-15       0.000000       0.00000        4.500000      0.000000   \n",
      "2036-11-15       0.000000       0.00000        4.500000      0.000000   \n",
      "2037-11-15       0.000000       0.00000        4.500000      0.000000   \n",
      "2038-11-15       0.000000       0.00000        4.500000      0.000000   \n",
      "2039-11-15       0.000000       0.00000      104.500000      0.000000   \n",
      "2040-11-15       0.000000       0.00000        0.000000      0.000000   \n",
      "2041-11-15       0.000000       0.00000        0.000000      0.000000   \n",
      "2042-11-15       0.000000       0.00000        0.000000      0.000000   \n",
      "2043-11-15       0.000000       0.00000        0.000000      0.000000   \n",
      "2044-11-15       0.000000       0.00000        0.000000      0.000000   \n",
      "2045-11-15       0.000000       0.00000        0.000000      0.000000   \n",
      "2046-11-15       0.000000       0.00000        0.000000      0.000000   \n",
      "2047-11-15       0.000000       0.00000        0.000000      0.000000   \n",
      "2048-11-15       0.000000       0.00000        0.000000      0.000000   \n",
      "2049-11-15       0.000000       0.00000        0.000000      0.000000   \n",
      "2050-11-15       0.000000       0.00000        0.000000      0.000000   \n",
      "2051-11-15       0.000000       0.00000        0.000000      0.000000   \n",
      "2052-11-15       0.000000       0.00000        0.000000      0.000000   \n",
      "\n",
      "            DANSKE STAT 2022  DANSKE STAT 2029  Danske Stat 2024  \\\n",
      "2021-09-15       -101.163219       -106.316438          -101.715   \n",
      "2021-11-15          0.250000          0.500000             0.000   \n",
      "2022-11-15        100.250000          0.500000             0.000   \n",
      "2023-11-15          0.000000          0.500000             0.000   \n",
      "2024-11-15          0.000000          0.500000           100.000   \n",
      "2025-11-15          0.000000          0.500000             0.000   \n",
      "2026-11-15          0.000000          0.500000             0.000   \n",
      "2027-11-15          0.000000          0.500000             0.000   \n",
      "2028-11-15          0.000000          0.500000             0.000   \n",
      "2029-11-15          0.000000        100.500000             0.000   \n",
      "2030-11-15          0.000000          0.000000             0.000   \n",
      "2031-11-15          0.000000          0.000000             0.000   \n",
      "2032-11-15          0.000000          0.000000             0.000   \n",
      "2033-11-15          0.000000          0.000000             0.000   \n",
      "2034-11-15          0.000000          0.000000             0.000   \n",
      "2035-11-15          0.000000          0.000000             0.000   \n",
      "2036-11-15          0.000000          0.000000             0.000   \n",
      "2037-11-15          0.000000          0.000000             0.000   \n",
      "2038-11-15          0.000000          0.000000             0.000   \n",
      "2039-11-15          0.000000          0.000000             0.000   \n",
      "2040-11-15          0.000000          0.000000             0.000   \n",
      "2041-11-15          0.000000          0.000000             0.000   \n",
      "2042-11-15          0.000000          0.000000             0.000   \n",
      "2043-11-15          0.000000          0.000000             0.000   \n",
      "2044-11-15          0.000000          0.000000             0.000   \n",
      "2045-11-15          0.000000          0.000000             0.000   \n",
      "2046-11-15          0.000000          0.000000             0.000   \n",
      "2047-11-15          0.000000          0.000000             0.000   \n",
      "2048-11-15          0.000000          0.000000             0.000   \n",
      "2049-11-15          0.000000          0.000000             0.000   \n",
      "2050-11-15          0.000000          0.000000             0.000   \n",
      "2051-11-15          0.000000          0.000000             0.000   \n",
      "2052-11-15          0.000000          0.000000             0.000   \n",
      "\n",
      "            Danske Stat 2025  Danske Stat 2027  Danske Stat 2031  \\\n",
      "2021-09-15       -110.627534       -105.976438           -100.14   \n",
      "2021-11-15          1.750000          0.500000              0.00   \n",
      "2022-11-15          1.750000          0.500000              0.00   \n",
      "2023-11-15          1.750000          0.500000              0.00   \n",
      "2024-11-15          1.750000          0.500000              0.00   \n",
      "2025-11-15        101.750000          0.500000              0.00   \n",
      "2026-11-15          0.000000          0.500000              0.00   \n",
      "2027-11-15          0.000000        100.500000              0.00   \n",
      "2028-11-15          0.000000          0.000000              0.00   \n",
      "2029-11-15          0.000000          0.000000              0.00   \n",
      "2030-11-15          0.000000          0.000000              0.00   \n",
      "2031-11-15          0.000000          0.000000            100.00   \n",
      "2032-11-15          0.000000          0.000000              0.00   \n",
      "2033-11-15          0.000000          0.000000              0.00   \n",
      "2034-11-15          0.000000          0.000000              0.00   \n",
      "2035-11-15          0.000000          0.000000              0.00   \n",
      "2036-11-15          0.000000          0.000000              0.00   \n",
      "2037-11-15          0.000000          0.000000              0.00   \n",
      "2038-11-15          0.000000          0.000000              0.00   \n",
      "2039-11-15          0.000000          0.000000              0.00   \n",
      "2040-11-15          0.000000          0.000000              0.00   \n",
      "2041-11-15          0.000000          0.000000              0.00   \n",
      "2042-11-15          0.000000          0.000000              0.00   \n",
      "2043-11-15          0.000000          0.000000              0.00   \n",
      "2044-11-15          0.000000          0.000000              0.00   \n",
      "2045-11-15          0.000000          0.000000              0.00   \n",
      "2046-11-15          0.000000          0.000000              0.00   \n",
      "2047-11-15          0.000000          0.000000              0.00   \n",
      "2048-11-15          0.000000          0.000000              0.00   \n",
      "2049-11-15          0.000000          0.000000              0.00   \n",
      "2050-11-15          0.000000          0.000000              0.00   \n",
      "2051-11-15          0.000000          0.000000              0.00   \n",
      "2052-11-15          0.000000          0.000000              0.00   \n",
      "\n",
      "            Danske Stat 2052  \n",
      "2021-09-15        -95.058219  \n",
      "2021-11-15          0.250000  \n",
      "2022-11-15          0.250000  \n",
      "2023-11-15          0.250000  \n",
      "2024-11-15          0.250000  \n",
      "2025-11-15          0.250000  \n",
      "2026-11-15          0.250000  \n",
      "2027-11-15          0.250000  \n",
      "2028-11-15          0.250000  \n",
      "2029-11-15          0.250000  \n",
      "2030-11-15          0.250000  \n",
      "2031-11-15          0.250000  \n",
      "2032-11-15          0.250000  \n",
      "2033-11-15          0.250000  \n",
      "2034-11-15          0.250000  \n",
      "2035-11-15          0.250000  \n",
      "2036-11-15          0.250000  \n",
      "2037-11-15          0.250000  \n",
      "2038-11-15          0.250000  \n",
      "2039-11-15          0.250000  \n",
      "2040-11-15          0.250000  \n",
      "2041-11-15          0.250000  \n",
      "2042-11-15          0.250000  \n",
      "2043-11-15          0.250000  \n",
      "2044-11-15          0.250000  \n",
      "2045-11-15          0.250000  \n",
      "2046-11-15          0.250000  \n",
      "2047-11-15          0.250000  \n",
      "2048-11-15          0.250000  \n",
      "2049-11-15          0.250000  \n",
      "2050-11-15          0.250000  \n",
      "2051-11-15          0.250000  \n",
      "2052-11-15        100.250000  \n"
     ]
    }
   ],
   "source": [
    "start_date_str = '2021-09-15'\n",
    "\n",
    "start_date = datetime.datetime.fromisoformat(start_date_str)\n",
    "last_coupon_date = datetime.datetime.fromisoformat('2020-11-15')\n",
    "\n",
    "portfolio['MatDate'] = portfolio['MatYear'].apply(lambda x: datetime.datetime(x,11,15))\n",
    "\n",
    "# Convert the prize by using the formula: Clean Price = Dirty Price − Accrued Interest.\n",
    "portfolio['CleanPrice'] = portfolio['Price'] + portfolio['Coupon']*(start_date-last_coupon_date).days/365\n",
    "\n",
    "# Create list of times for the cash flow\n",
    "times = list(range(start_date.year,max(government_bonds['MatYear'])+1))\n",
    "times = [datetime.datetime(x,11,15) for x in times]\n",
    "times.insert(0,start_date)\n",
    "\n",
    "# Create the clean cash flow\n",
    "CFclean = pd.DataFrame(0, index=government_bonds['Bond'], columns=times)\n",
    "# Insert the clean price\n",
    "CFclean[times[0]] = -portfolio['CleanPrice']\n",
    "# Insert coupons and PAR\n",
    "for i in range(1,len(times)):\n",
    "\tCFclean[times[i]] = portfolio['Coupon']*(times[i].year<=portfolio['MatYear']) + 100*(times[i].year==portfolio['MatYear'])\n",
    "\n",
    "print('Cash flow for the bonds:\\n')\n",
    "print(CFclean.transpose())\n",
    "\n",
    "\n",
    "\n"
   ]
  },
  {
   "cell_type": "markdown",
   "metadata": {},
   "source": [
    "### Part C"
   ]
  },
  {
   "cell_type": "code",
   "execution_count": 70,
   "metadata": {},
   "outputs": [
    {
     "name": "stdout",
     "output_type": "stream",
     "text": [
      "Yield to maturity\n",
      "                          T       YtM\n",
      "1,5St.l.23 GB    2023-11-15 -0.005822\n",
      "3St.l. 21 GB     2021-11-15  0.001824\n",
      "4,5 St.l 39 GB   2039-11-15  0.001848\n",
      "7 St.l 24 GB     2024-11-15 -0.005681\n",
      "DANSKE STAT 2022 2022-11-15 -0.005632\n",
      "DANSKE STAT 2029 2029-11-15 -0.002151\n",
      "Danske Stat 2024 2024-11-15 -0.005350\n",
      "Danske Stat 2025 2025-11-15 -0.004260\n",
      "Danske Stat 2027 2027-11-15 -0.003888\n",
      "Danske Stat 2031 2031-11-15 -0.000138\n",
      "Danske Stat 2052 2052-11-15  0.004265\n",
      "[-0.00582229  0.00182432  0.00184801 -0.00568074 -0.00563175 -0.00215145\n",
      " -0.0053501  -0.0042598  -0.00388835 -0.00013752  0.00426522]\n"
     ]
    }
   ],
   "source": [
    "# Get time since start\n",
    "time_since_start = pd.DataFrame(np.NaN, index=times, columns=['t'])\n",
    "for t in times:\n",
    "\ttime_since_start['t'][t] = (t-start_date).days/365\n",
    "\n",
    "# Calculate the yield to maturity\n",
    "YtM = pd.DataFrame(np.NaN, index=government_bonds['Bond'], columns=['T', 'YtM'])\n",
    "YtM['T'] = bonds['MatDate']\n",
    "\n",
    "def calculate_absdiff(r):\n",
    "\tvalue = 0\n",
    "\tfor t in times[1:]:\n",
    "        # use the clean prize\n",
    "\t\tvalue += CFclean[t][bond]*(1+r)**-time_since_start['t'][t]\n",
    "\treturn abs(value+CFclean[times[0]][bond])\n",
    "\n",
    "for bond in government_bonds['Bond']:\n",
    "\tYtM.loc[bond, 'YtM'] = optimize.newton(calculate_absdiff, -0.01, tol=1e-10, maxiter=100)\n",
    "\n",
    "print('Yield to maturity')\n",
    "print(YtM)\n",
    "print(YtM['YtM'].values)"
   ]
  },
  {
   "cell_type": "code",
   "execution_count": 60,
   "metadata": {},
   "outputs": [
    {
     "data": {
      "image/png": "[encoded data removed]",
      "text/plain": [
       "<Figure size 432x288 with 1 Axes>"
      ]
     },
     "metadata": {
      "needs_background": "light"
     },
     "output_type": "display_data"
    }
   ],
   "source": [
    "from pandas.plotting import deregister_matplotlib_converters\n",
    "deregister_matplotlib_converters()\n",
    "\n",
    "plt.scatter(YtM['T'], YtM['YtM'])\n",
    "plt.suptitle('Yields from Danish government bonds')\n",
    "plt.title('Data extracted on ' + start_date_str, fontsize=10)\n",
    "plt.ylabel('yield')\n",
    "plt.show()"
   ]
  },
  {
   "cell_type": "code",
   "execution_count": 73,
   "metadata": {},
   "outputs": [
    {
     "name": "stdout",
     "output_type": "stream",
     "text": [
      "Calculated the Nelson-Siegel coefficients and got the following values:\n",
      "NelsonSiegelCurve(beta0=0.005117294519717598, beta1=0.015031958912835416, beta2=-0.05948777318853643, tau=1.2974980064303594)\n"
     ]
    }
   ],
   "source": [
    "maturity_3 = np.array([3,1,19,4,2,9,4,5,7,11,32])\n",
    "ytm_3 = np.array([-0.00582229, 0.00182432, 0.00184801, -0.00568074, -0.00563175, -0.00215145,\n",
    " -0.0053501, -0.0042598, -0.00388835, -0.00013752 , 0.00426522])\n",
    "curve_3, status_3 = calibrate_ns_ols(maturity, ytm, tau0=1.0)  # starting value of 1.0 for the optimization of tau\n",
    "assert status.success\n",
    "\n",
    "print(\"Calculated the Nelson-Siegel coefficients and got the following values:\")\n",
    "print(curve)"
   ]
  },
  {
   "cell_type": "code",
   "execution_count": 74,
   "metadata": {},
   "outputs": [
    {
     "data": {
      "image/png": "[encoded data removed]",
      "text/plain": [
       "<Figure size 432x288 with 1 Axes>"
      ]
     },
     "metadata": {
      "needs_background": "light"
     },
     "output_type": "display_data"
    }
   ],
   "source": [
    "import matplotlib.pyplot as plt\n",
    "y = curve_3\n",
    "t = np.linspace(0, 32, 100)\n",
    "plt.plot(t, y(t))\n",
    "plt.scatter(maturity_3, ytm_3, color=\"black\")\n",
    "\n",
    "plt.title('Nelson-Siegel curve')\n",
    "plt.xlabel('Maturity (years)')\n",
    "plt.ylabel('YtM')\n",
    "plt.grid(color='grey', linestyle='-', linewidth=0.5)"
   ]
  },
  {
   "cell_type": "markdown",
   "metadata": {},
   "source": [
    "### Part D"
   ]
  },
  {
   "cell_type": "markdown",
   "metadata": {},
   "source": [
    "Explanation: Yield to Maturity is the average rate of return for a bond (only one). When looking at a portfolio one should use the interest rates from the fitted term-structure as it not only describes the rate from one bond, but the whole bond market."
   ]
  },
  {
   "cell_type": "markdown",
   "metadata": {},
   "source": [
    "#### Formula for calculating the duration of a portfolio of bonds (Macaulay duration)"
   ]
  },
  {
   "cell_type": "markdown",
   "metadata": {},
   "source": [
    "![title](formula.png)"
   ]
  },
  {
   "cell_type": "markdown",
   "metadata": {},
   "source": [
    "### Part E"
   ]
  },
  {
   "cell_type": "code",
   "execution_count": 93,
   "metadata": {},
   "outputs": [
    {
     "name": "stdout",
     "output_type": "stream",
     "text": [
      "X value: 31.0\n"
     ]
    }
   ],
   "source": [
    "student_numbers = [212196, 212190, 212191]\n",
    "duration = 0\n",
    "for element in student_numbers:\n",
    "    duration+=sum(int(digit) for digit in str(element))\n",
    "X = 5 + 0.5*duration\n",
    "print(\"X value:\", X)\n"
   ]
  },
  {
   "cell_type": "markdown",
   "metadata": {},
   "source": [
    "![title](utregning.png)"
   ]
  },
  {
   "cell_type": "markdown",
   "metadata": {},
   "source": [
    "##### Find the positive portfolio weights\n",
    "Duration = 26\n",
    "\n",
    "\n",
    "\n",
    "Portfolio duration = w_1 * D_1 + w_2 * D_2 +....+ w_n * D_n\n",
    "\n",
    "\n",
    "\n",
    "Bonds in portfolio:\n",
    "* DS 2052 - Duration = 29.89, w1 = 0.8\n",
    "* DS 2031 - Duration = 10.13, w2 = 0.18\n",
    "* 4,5 ST.L 39 GB - Duration = 13.94, w3 = 0.02\n",
    "\n",
    "\n"
   ]
  },
  {
   "cell_type": "code",
   "execution_count": 95,
   "metadata": {},
   "outputs": [],
   "source": []
  }
 ],
 "metadata": {
  "kernelspec": {
   "display_name": "Python 3",
   "language": "python",
   "name": "python3"
  },
  "language_info": {
   "codemirror_mode": {
    "name": "ipython",
    "version": 3
   },
   "file_extension": ".py",
   "mimetype": "text/x-python",
   "name": "python",
   "nbconvert_exporter": "python",
   "pygments_lexer": "ipython3",
   "version": "3.7.4"
  }
 },
 "nbformat": 4,
 "nbformat_minor": 4
}

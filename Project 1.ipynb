{
 "cells": [
  {
   "cell_type": "markdown",
   "metadata": {},
   "source": [
    "# Exercise 1\n",
    "\n",
    "(yield curve) Use the results from Exercise 3 last week\n",
    "\n",
    "    a. Plot the yield curve. Does something look odd? If so, what?\n",
    "    b. Calculate the Nelson-Siegel coefficients and fitted interest rates\n",
    "    c. Plot the the Nelson-Siegel fitted yield curve in the same plot as before and\n",
    "    compare\n",
    "    \n",
    "**Note:** You may have to remove some of the bonds from your data before computing the Nelson-Siegel coefficients.\n"
   ]
  },
  {
   "cell_type": "markdown",
   "metadata": {},
   "source": [
    "# Exercise 2 \n",
    "\n",
    "(duration, convexity) Use the results from Exercise 3 last week.\n",
    "\n",
    "    a. Compute the Macaulay duration and the modified duration for all bonds\n",
    "    b. Compute the convexity for all bonds\n",
    "    c. Compute Fisher-Weil durations and convexities using the obtained term\n",
    "    structure model from Question 1"
   ]
  },
  {
   "cell_type": "markdown",
   "metadata": {},
   "source": [
    "# Exercise 3\n",
    "\n",
    "In this task you play the role of bond portfolio manager. A client would like to invest in Danish Government bonds. He asks you to invest DKK 1.000.000 in a portfolio of bonds and wants you to assess the risk of holding this portfolio.\n",
    "\n",
    "    a. The portfolio calculations should be done using NASDAQ prices from a September-day on or after \n",
    "        September 15th. As there is little data in this project, I would not recommend you to \n",
    "        spend time on figuring out how to fetch data from the website automatically. \n",
    "        Just write them down in your scripts.\n",
    "    b. Convert prices from clean to dirty or vice versa depending on your data.\n",
    "    c. The term structure of interest rates should be done with a Nelson-Siegel term\n",
    "        structure model fitted to all relevant government bond prices.\n",
    "    d. Derive an expression for the duration of a portfolio of bonds and argue why you must \n",
    "        use the interest rates coming from the fitted term-structure model\n",
    "        instead of rates obtained by calculating each bond's yield to maturity.\n",
    "    e. Find a portfolio of three bonds with positive portfolio weights, such that the\n",
    "        duration of the portfolio is X, where X = 5 + 0. 5 * (the digit sum of your\n",
    "        student numbers).\n",
    "    f. Using these weights, calculate the convexity of the portfolio as well as the\n",
    "        value increase/decrease, if the interest rate curve shifts up by 1% (100bp).\n",
    "\n",
    "**Note: For some bonds, there might be no recent trades and thereby prices for the day where you wish to do the analysis. In that case, you can for instance use the latest price.**"
   ]
  },
  {
   "cell_type": "code",
   "execution_count": null,
   "metadata": {},
   "outputs": [],
   "source": []
  }
 ],
 "metadata": {
  "kernelspec": {
   "display_name": "Python 3",
   "language": "python",
   "name": "python3"
  },
  "language_info": {
   "codemirror_mode": {
    "name": "ipython",
    "version": 3
   },
   "file_extension": ".py",
   "mimetype": "text/x-python",
   "name": "python",
   "nbconvert_exporter": "python",
   "pygments_lexer": "ipython3",
   "version": "3.7.3"
  }
 },
 "nbformat": 4,
 "nbformat_minor": 4
}

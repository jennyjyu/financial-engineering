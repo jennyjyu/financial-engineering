{
 "cells": [
  {
   "cell_type": "markdown",
   "metadata": {},
   "source": [
    "# Exercise 1\n",
    "\n",
    "(yield curve) Use the results from Exercise 3 last week\n",
    "\n",
    "    a. Plot the yield curve. Does something look odd? If so, what?\n",
    "    b. Calculate the Nelson-Siegel coefficients and fitted interest rates\n",
    "    c. Plot the the Nelson-Siegel fitted yield curve in the same plot as before and\n",
    "    compare\n",
    "    \n",
    "**Note:** You may have to remove some of the bonds from your data before computing the Nelson-Siegel coefficients.\n"
   ]
  },
  {
   "cell_type": "code",
   "execution_count": 18,
   "metadata": {
    "scrolled": true
   },
   "outputs": [
    {
     "name": "stderr",
     "output_type": "stream",
     "text": [
      "ERROR:root:Internal Python error in the inspect module.\n",
      "Below is the traceback from this internal error.\n",
      "\n"
     ]
    },
    {
     "name": "stdout",
     "output_type": "stream",
     "text": [
      "Traceback (most recent call last):\n",
      "  File \"/Library/Frameworks/Python.framework/Versions/3.7/lib/python3.7/site-packages/IPython/core/interactiveshell.py\", line 3331, in run_code\n",
      "    exec(code_obj, self.user_global_ns, self.user_ns)\n",
      "  File \"<ipython-input-18-645a09303516>\", line 3, in <module>\n",
      "    import matplotlib.pyplot as plt, pandas as pd, datetime, numpy as np, scipy.optimize as optimize\n",
      "  File \"<frozen importlib._bootstrap>\", line 983, in _find_and_load\n",
      "  File \"<frozen importlib._bootstrap>\", line 963, in _find_and_load_unlocked\n",
      "  File \"<frozen importlib._bootstrap>\", line 906, in _find_spec\n",
      "  File \"<frozen importlib._bootstrap_external>\", line 1280, in find_spec\n",
      "  File \"<frozen importlib._bootstrap_external>\", line 1249, in _get_spec\n",
      "  File \"<frozen importlib._bootstrap_external>\", line 1213, in _path_importer_cache\n",
      "PermissionError: [Errno 1] Operation not permitted\n",
      "\n",
      "During handling of the above exception, another exception occurred:\n",
      "\n",
      "Traceback (most recent call last):\n",
      "  File \"/Library/Frameworks/Python.framework/Versions/3.7/lib/python3.7/site-packages/IPython/core/interactiveshell.py\", line 2044, in showtraceback\n",
      "    stb = value._render_traceback_()\n",
      "AttributeError: 'PermissionError' object has no attribute '_render_traceback_'\n",
      "\n",
      "During handling of the above exception, another exception occurred:\n",
      "\n",
      "Traceback (most recent call last):\n",
      "  File \"/Library/Frameworks/Python.framework/Versions/3.7/lib/python3.7/site-packages/IPython/core/ultratb.py\", line 1151, in get_records\n",
      "    return _fixed_getinnerframes(etb, number_of_lines_of_context, tb_offset)\n",
      "  File \"/Library/Frameworks/Python.framework/Versions/3.7/lib/python3.7/site-packages/IPython/core/ultratb.py\", line 319, in wrapped\n",
      "    return f(*args, **kwargs)\n",
      "  File \"/Library/Frameworks/Python.framework/Versions/3.7/lib/python3.7/site-packages/IPython/core/ultratb.py\", line 353, in _fixed_getinnerframes\n",
      "    records = fix_frame_records_filenames(inspect.getinnerframes(etb, context))\n",
      "  File \"/Library/Frameworks/Python.framework/Versions/3.7/lib/python3.7/inspect.py\", line 1502, in getinnerframes\n",
      "    frameinfo = (tb.tb_frame,) + getframeinfo(tb, context)\n",
      "  File \"/Library/Frameworks/Python.framework/Versions/3.7/lib/python3.7/inspect.py\", line 1460, in getframeinfo\n",
      "    filename = getsourcefile(frame) or getfile(frame)\n",
      "  File \"/Library/Frameworks/Python.framework/Versions/3.7/lib/python3.7/inspect.py\", line 696, in getsourcefile\n",
      "    if getattr(getmodule(object, filename), '__loader__', None) is not None:\n",
      "  File \"/Library/Frameworks/Python.framework/Versions/3.7/lib/python3.7/inspect.py\", line 725, in getmodule\n",
      "    file = getabsfile(object, _filename)\n",
      "  File \"/Library/Frameworks/Python.framework/Versions/3.7/lib/python3.7/inspect.py\", line 709, in getabsfile\n",
      "    return os.path.normcase(os.path.abspath(_filename))\n",
      "  File \"/Library/Frameworks/Python.framework/Versions/3.7/lib/python3.7/posixpath.py\", line 383, in abspath\n",
      "    cwd = os.getcwd()\n",
      "PermissionError: [Errno 1] Operation not permitted\n"
     ]
    },
    {
     "ename": "PermissionError",
     "evalue": "[Errno 1] Operation not permitted",
     "output_type": "error",
     "traceback": [
      "\u001b[0;31m---------------------------------------------------------------------------\u001b[0m"
     ]
    }
   ],
   "source": [
    "#### FROM EXERCISE SOLUTION ####\n",
    "\n",
    "import matplotlib.pyplot as plt, pandas as pd, datetime, numpy as np, scipy.optimize as optimize\n",
    "\n",
    "start_date_str = '2021-09-15'\n",
    "\n",
    "print(\"Data collected manually from the website 'http://www.nasdaqomxnordic.com/bonds/denmark' on \" +\n",
    "\t\tstart_date_str + '\\n')\n",
    "\n",
    "start_date = datetime.datetime.fromisoformat(start_date_str)\n",
    "last_coupon_date = datetime.datetime.fromisoformat('2020-11-15')\n",
    "\n",
    "dict_bonds = {'Bond':['1,5St.l.23 GB', '3St.l. 21 GB', '4,5 St.l 39 GB', '7 St.l 24 GB',\n",
    "\t\t\t\t\t\t'DANSKE STAT 2022', 'DANSKE STAT 2029', 'DGBI 2023 GB', 'DGBi',\n",
    "\t\t\t\t\t\t'Danske Stat 2024', 'Danske Stat 2025', 'Danske Stat 2027',\n",
    "\t\t\t\t\t\t'Danske Stat 2031', 'Danske Stat 2052'],\n",
    "         \t 'Price':[104.32,100.61,177.96,124.3,101.12,105.99,104.67,117.95,\n",
    "         \t \t\t\t101.88, 109.56, 105.51, 100.57, 96.23],\n",
    "         \t 'Coupon':[1.50,3.00,4.50,7.00,0.25,0.50,0.10,0.10,0.00,1.75,0.50,0.00,0.25],\n",
    "         \t 'MatYear':[2023,2021,2039,2024,2022,2029,2023,2030,2024,2025,2027,2031,2052]}\n",
    "\n",
    "# Part 3a\n",
    "print('\\nPart a')\n",
    "\n",
    "bonds = pd.DataFrame(dict_bonds)\n",
    "bonds.set_index('Bond', inplace=True)\n",
    "\n",
    "bonds['MatDate'] = bonds['MatYear'].apply(lambda x: datetime.datetime(x,11,15))\n",
    "bonds['DirtyPrice'] = bonds['Price'] + bonds['Coupon']*(start_date-last_coupon_date).days/365\n",
    "\n",
    "# Create list of times for the cash flow\n",
    "times = list(range(start_date.year,max(dict_bonds['MatYear'])+1))\n",
    "times = [datetime.datetime(x,11,15) for x in times]\n",
    "times.insert(0,start_date)\n",
    "\n",
    "# Create the dirty cash flow\n",
    "CFdirty = pd.DataFrame(0, index=dict_bonds['Bond'], columns=times)\n",
    "# Insert the dirty price\n",
    "CFdirty[times[0]] = -bonds['DirtyPrice']\n",
    "# Insert coupons and PAR\n",
    "for i in range(1,len(times)):\n",
    "\tCFdirty[times[i]] = bonds['Coupon']*(times[i].year<=bonds['MatYear']) + 100*(times[i].year==bonds['MatYear'])\n",
    "\n",
    "print('Cash flow for the bonds:\\n')\n",
    "print(CFdirty.transpose())\n",
    "\n",
    "# Part 3b\n",
    "print('\\nPart b')\n",
    "\n",
    "# Get time since start\n",
    "time_since_start = pd.DataFrame(np.NaN, index=times, columns=['t'])\n",
    "for t in times:\n",
    "\ttime_since_start['t'][t] = (t-start_date).days/365\n",
    "\n",
    "# Calculate the yield to maturity\n",
    "YtM = pd.DataFrame(np.NaN, index=dict_bonds['Bond'], columns=['T', 'YtM'])\n",
    "YtM['T'] = bonds['MatDate']\n",
    "\n",
    "def calculate_absdiff(r):\n",
    "\tvalue = 0\n",
    "\tfor t in times[1:]:\n",
    "\t\tvalue += CFdirty[t][bond]*(1+r)**-time_since_start['t'][t]\n",
    "\treturn abs(value+CFdirty[times[0]][bond])\n",
    "\n",
    "for bond in dict_bonds['Bond']:\n",
    "\tYtM.loc[bond, 'YtM'] = optimize.newton(calculate_absdiff, -0.01, tol=1e-10, maxiter=100)\n",
    "\n",
    "print('Yield to maturity')\n",
    "print(YtM)\n",
    "\n",
    "# Part 3c\n",
    "print('\\nPart c')\n",
    "print('Visualize yields')\n",
    "# To avoid future warning deregister mpl converters\n",
    "from pandas.plotting import deregister_matplotlib_converters\n",
    "deregister_matplotlib_converters()\n",
    "\n",
    "plt.scatter(YtM['T'], YtM['YtM'])\n",
    "plt.suptitle('Yields from Danish government bonds')\n",
    "plt.title('Data extracted on ' + start_date_str, fontsize=10)\n",
    "plt.ylabel('yield')\n",
    "plt.show()"
   ]
  },
  {
   "cell_type": "markdown",
   "metadata": {},
   "source": [
    "### Plot the yield curve. Does something look odd? If so, what?\n",
    "\n"
   ]
  },
  {
   "cell_type": "markdown",
   "metadata": {},
   "source": [
    "The points ....."
   ]
  },
  {
   "cell_type": "markdown",
   "metadata": {},
   "source": [
    "### B) Calculate the Nelson-Siegel coefficient"
   ]
  },
  {
   "cell_type": "code",
   "execution_count": 14,
   "metadata": {},
   "outputs": [
    {
     "name": "stdout",
     "output_type": "stream",
     "text": [
      "Calculated the Nelson-Siegel coefficients and got the following values:\n",
      "NelsonSiegelCurve(beta0=0.004895850049793461, beta1=-0.0077707451307986, beta2=-0.025433143523176212, tau=1.8428043993540426)\n"
     ]
    }
   ],
   "source": [
    "import numpy as np\n",
    "from nelson_siegel_svensson.calibrate import calibrate_ns_ols\n",
    "\n",
    "maturity = np.array([3,1,19,4,2,9,4,5,7,11,32])\n",
    "ytm = np.array([-0.004781182876998311, -0.0062875045307910615, 0.0014761457005752698, -0.00578818015530931, \n",
    "                -0.007022199046629919, -0.0022569620276429044, -0.0058585659248958765, -0.0051330585335954615, \n",
    "                -0.0038109007699065594, -0.0005585816165400206, 0.003781955198807505])\n",
    "curve, status = calibrate_ns_ols(maturity, ytm, tau0=1.0)  # starting value of 1.0 for the optimization of tau\n",
    "assert status.success\n",
    "\n",
    "print(\"Calculated the Nelson-Siegel coefficients and got the following values:\")\n",
    "print(curve)"
   ]
  },
  {
   "cell_type": "code",
   "execution_count": 15,
   "metadata": {},
   "outputs": [
    {
     "name": "stdout",
     "output_type": "stream",
     "text": [
      "[-0.00650254 -0.00594759  0.00167637 -0.00575355 -0.00677229 -0.00165892\n",
      " -0.00575355 -0.00484346 -0.00307972 -0.00058748  0.00298372]\n"
     ]
    }
   ],
   "source": [
    "# Fitted interest rates\n",
    "fitted_rates = curve(maturity)\n",
    "print(fitted_rates)"
   ]
  },
  {
   "cell_type": "markdown",
   "metadata": {},
   "source": [
    "### C) Nelson-Siegel plot"
   ]
  },
  {
   "cell_type": "code",
   "execution_count": 17,
   "metadata": {},
   "outputs": [
    {
     "name": "stderr",
     "output_type": "stream",
     "text": [
      "ERROR:root:Internal Python error in the inspect module.\n",
      "Below is the traceback from this internal error.\n",
      "\n"
     ]
    },
    {
     "name": "stdout",
     "output_type": "stream",
     "text": [
      "Traceback (most recent call last):\n",
      "  File \"/Library/Frameworks/Python.framework/Versions/3.7/lib/python3.7/site-packages/IPython/core/interactiveshell.py\", line 3331, in run_code\n",
      "    exec(code_obj, self.user_global_ns, self.user_ns)\n",
      "  File \"<ipython-input-17-3c9c71a86ef3>\", line 1, in <module>\n",
      "    import matplotlib.pyplot as plt\n",
      "  File \"<frozen importlib._bootstrap>\", line 983, in _find_and_load\n",
      "  File \"<frozen importlib._bootstrap>\", line 963, in _find_and_load_unlocked\n",
      "  File \"<frozen importlib._bootstrap>\", line 906, in _find_spec\n",
      "  File \"<frozen importlib._bootstrap_external>\", line 1280, in find_spec\n",
      "  File \"<frozen importlib._bootstrap_external>\", line 1249, in _get_spec\n",
      "  File \"<frozen importlib._bootstrap_external>\", line 1213, in _path_importer_cache\n",
      "PermissionError: [Errno 1] Operation not permitted\n",
      "\n",
      "During handling of the above exception, another exception occurred:\n",
      "\n",
      "Traceback (most recent call last):\n",
      "  File \"/Library/Frameworks/Python.framework/Versions/3.7/lib/python3.7/site-packages/IPython/core/interactiveshell.py\", line 2044, in showtraceback\n",
      "    stb = value._render_traceback_()\n",
      "AttributeError: 'PermissionError' object has no attribute '_render_traceback_'\n",
      "\n",
      "During handling of the above exception, another exception occurred:\n",
      "\n",
      "Traceback (most recent call last):\n",
      "  File \"/Library/Frameworks/Python.framework/Versions/3.7/lib/python3.7/site-packages/IPython/core/ultratb.py\", line 1151, in get_records\n",
      "    return _fixed_getinnerframes(etb, number_of_lines_of_context, tb_offset)\n",
      "  File \"/Library/Frameworks/Python.framework/Versions/3.7/lib/python3.7/site-packages/IPython/core/ultratb.py\", line 319, in wrapped\n",
      "    return f(*args, **kwargs)\n",
      "  File \"/Library/Frameworks/Python.framework/Versions/3.7/lib/python3.7/site-packages/IPython/core/ultratb.py\", line 353, in _fixed_getinnerframes\n",
      "    records = fix_frame_records_filenames(inspect.getinnerframes(etb, context))\n",
      "  File \"/Library/Frameworks/Python.framework/Versions/3.7/lib/python3.7/inspect.py\", line 1502, in getinnerframes\n",
      "    frameinfo = (tb.tb_frame,) + getframeinfo(tb, context)\n",
      "  File \"/Library/Frameworks/Python.framework/Versions/3.7/lib/python3.7/inspect.py\", line 1460, in getframeinfo\n",
      "    filename = getsourcefile(frame) or getfile(frame)\n",
      "  File \"/Library/Frameworks/Python.framework/Versions/3.7/lib/python3.7/inspect.py\", line 696, in getsourcefile\n",
      "    if getattr(getmodule(object, filename), '__loader__', None) is not None:\n",
      "  File \"/Library/Frameworks/Python.framework/Versions/3.7/lib/python3.7/inspect.py\", line 725, in getmodule\n",
      "    file = getabsfile(object, _filename)\n",
      "  File \"/Library/Frameworks/Python.framework/Versions/3.7/lib/python3.7/inspect.py\", line 709, in getabsfile\n",
      "    return os.path.normcase(os.path.abspath(_filename))\n",
      "  File \"/Library/Frameworks/Python.framework/Versions/3.7/lib/python3.7/posixpath.py\", line 383, in abspath\n",
      "    cwd = os.getcwd()\n",
      "PermissionError: [Errno 1] Operation not permitted\n"
     ]
    },
    {
     "ename": "PermissionError",
     "evalue": "[Errno 1] Operation not permitted",
     "output_type": "error",
     "traceback": [
      "\u001b[0;31m---------------------------------------------------------------------------\u001b[0m"
     ]
    }
   ],
   "source": [
    "import matplotlib.pyplot as plt\n",
    "y = curve\n",
    "t = np.linspace(0, 32, 100)\n",
    "plt.plot(t, y(t))\n",
    "plt.scatter(maturity, ytm, color=\"black\")\n",
    "\n",
    "plt.title('Nelson-Siegel curve')\n",
    "plt.xlabel('Maturity (years)')\n",
    "plt.ylabel('YtM')\n",
    "plt.grid(color='grey', linestyle='-', linewidth=0.5)"
   ]
  },
  {
   "cell_type": "markdown",
   "metadata": {},
   "source": [
    "# Exercise 2 \n",
    "\n",
    "(duration, convexity) Use the results from Exercise 3 last week.\n",
    "\n",
    "    a. Compute the Macaulay duration and the modified duration for all bonds\n",
    "    b. Compute the convexity for all bonds\n",
    "    c. Compute Fisher-Weil durations and convexities using the obtained term\n",
    "    structure model from Question 1"
   ]
  },
  {
   "cell_type": "code",
   "execution_count": null,
   "metadata": {},
   "outputs": [],
   "source": []
  },
  {
   "cell_type": "markdown",
   "metadata": {},
   "source": [
    "# Exercise 3\n",
    "\n",
    "In this task you play the role of bond portfolio manager. A client would like to invest in Danish Government bonds. He asks you to invest DKK 1.000.000 in a portfolio of bonds and wants you to assess the risk of holding this portfolio.\n",
    "\n",
    "    a. The portfolio calculations should be done using NASDAQ prices from a September-day on or after \n",
    "        September 15th. As there is little data in this project, I would not recommend you to \n",
    "        spend time on figuring out how to fetch data from the website automatically. \n",
    "        Just write them down in your scripts.\n",
    "    b. Convert prices from clean to dirty or vice versa depending on your data.\n",
    "    c. The term structure of interest rates should be done with a Nelson-Siegel term\n",
    "        structure model fitted to all relevant government bond prices.\n",
    "    d. Derive an expression for the duration of a portfolio of bonds and argue why you must \n",
    "        use the interest rates coming from the fitted term-structure model\n",
    "        instead of rates obtained by calculating each bond's yield to maturity.\n",
    "    e. Find a portfolio of three bonds with positive portfolio weights, such that the\n",
    "        duration of the portfolio is X, where X = 5 + 0. 5 * (the digit sum of your\n",
    "        student numbers).\n",
    "    f. Using these weights, calculate the convexity of the portfolio as well as the\n",
    "        value increase/decrease, if the interest rate curve shifts up by 1% (100bp).\n",
    "\n",
    "**Note: For some bonds, there might be no recent trades and thereby prices for the day where you wish to do the analysis. In that case, you can for instance use the latest price.**"
   ]
  },
  {
   "cell_type": "code",
   "execution_count": null,
   "metadata": {},
   "outputs": [],
   "source": []
  },
  {
   "cell_type": "code",
   "execution_count": null,
   "metadata": {},
   "outputs": [],
   "source": []
  }
 ],
 "metadata": {
  "kernelspec": {
   "display_name": "Python 3",
   "language": "python",
   "name": "python3"
  },
  "language_info": {
   "codemirror_mode": {
    "name": "ipython",
    "version": 3
   },
   "file_extension": ".py",
   "mimetype": "text/x-python",
   "name": "python",
   "nbconvert_exporter": "python",
   "pygments_lexer": "ipython3",
   "version": "3.7.4"
  }
 },
 "nbformat": 4,
 "nbformat_minor": 4
}
